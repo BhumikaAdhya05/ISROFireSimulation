{
  "nbformat": 4,
  "nbformat_minor": 0,
  "metadata": {
    "colab": {
      "provenance": []
    },
    "kernelspec": {
      "name": "python3",
      "display_name": "Python 3"
    },
    "language_info": {
      "name": "python"
    }
  },
  "cells": [
    {
      "cell_type": "code",
      "source": [
        "from google.colab import files\n",
        "uploaded = files.upload()"
      ],
      "metadata": {
        "colab": {
          "base_uri": "https://localhost:8080/",
          "height": 90
        },
        "id": "iXo9b1s0nboG",
        "outputId": "882c3d06-0fe4-4832-fccf-94d72729c986"
      },
      "execution_count": 3,
      "outputs": [
        {
          "output_type": "display_data",
          "data": {
            "text/plain": [
              "<IPython.core.display.HTML object>"
            ],
            "text/html": [
              "\n",
              "     <input type=\"file\" id=\"files-0754895a-05bf-48f8-807c-b9b032e811ea\" name=\"files[]\" multiple disabled\n",
              "        style=\"border:none\" />\n",
              "     <output id=\"result-0754895a-05bf-48f8-807c-b9b032e811ea\">\n",
              "      Upload widget is only available when the cell has been executed in the\n",
              "      current browser session. Please rerun this cell to enable.\n",
              "      </output>\n",
              "      <script>// Copyright 2017 Google LLC\n",
              "//\n",
              "// Licensed under the Apache License, Version 2.0 (the \"License\");\n",
              "// you may not use this file except in compliance with the License.\n",
              "// You may obtain a copy of the License at\n",
              "//\n",
              "//      http://www.apache.org/licenses/LICENSE-2.0\n",
              "//\n",
              "// Unless required by applicable law or agreed to in writing, software\n",
              "// distributed under the License is distributed on an \"AS IS\" BASIS,\n",
              "// WITHOUT WARRANTIES OR CONDITIONS OF ANY KIND, either express or implied.\n",
              "// See the License for the specific language governing permissions and\n",
              "// limitations under the License.\n",
              "\n",
              "/**\n",
              " * @fileoverview Helpers for google.colab Python module.\n",
              " */\n",
              "(function(scope) {\n",
              "function span(text, styleAttributes = {}) {\n",
              "  const element = document.createElement('span');\n",
              "  element.textContent = text;\n",
              "  for (const key of Object.keys(styleAttributes)) {\n",
              "    element.style[key] = styleAttributes[key];\n",
              "  }\n",
              "  return element;\n",
              "}\n",
              "\n",
              "// Max number of bytes which will be uploaded at a time.\n",
              "const MAX_PAYLOAD_SIZE = 100 * 1024;\n",
              "\n",
              "function _uploadFiles(inputId, outputId) {\n",
              "  const steps = uploadFilesStep(inputId, outputId);\n",
              "  const outputElement = document.getElementById(outputId);\n",
              "  // Cache steps on the outputElement to make it available for the next call\n",
              "  // to uploadFilesContinue from Python.\n",
              "  outputElement.steps = steps;\n",
              "\n",
              "  return _uploadFilesContinue(outputId);\n",
              "}\n",
              "\n",
              "// This is roughly an async generator (not supported in the browser yet),\n",
              "// where there are multiple asynchronous steps and the Python side is going\n",
              "// to poll for completion of each step.\n",
              "// This uses a Promise to block the python side on completion of each step,\n",
              "// then passes the result of the previous step as the input to the next step.\n",
              "function _uploadFilesContinue(outputId) {\n",
              "  const outputElement = document.getElementById(outputId);\n",
              "  const steps = outputElement.steps;\n",
              "\n",
              "  const next = steps.next(outputElement.lastPromiseValue);\n",
              "  return Promise.resolve(next.value.promise).then((value) => {\n",
              "    // Cache the last promise value to make it available to the next\n",
              "    // step of the generator.\n",
              "    outputElement.lastPromiseValue = value;\n",
              "    return next.value.response;\n",
              "  });\n",
              "}\n",
              "\n",
              "/**\n",
              " * Generator function which is called between each async step of the upload\n",
              " * process.\n",
              " * @param {string} inputId Element ID of the input file picker element.\n",
              " * @param {string} outputId Element ID of the output display.\n",
              " * @return {!Iterable<!Object>} Iterable of next steps.\n",
              " */\n",
              "function* uploadFilesStep(inputId, outputId) {\n",
              "  const inputElement = document.getElementById(inputId);\n",
              "  inputElement.disabled = false;\n",
              "\n",
              "  const outputElement = document.getElementById(outputId);\n",
              "  outputElement.innerHTML = '';\n",
              "\n",
              "  const pickedPromise = new Promise((resolve) => {\n",
              "    inputElement.addEventListener('change', (e) => {\n",
              "      resolve(e.target.files);\n",
              "    });\n",
              "  });\n",
              "\n",
              "  const cancel = document.createElement('button');\n",
              "  inputElement.parentElement.appendChild(cancel);\n",
              "  cancel.textContent = 'Cancel upload';\n",
              "  const cancelPromise = new Promise((resolve) => {\n",
              "    cancel.onclick = () => {\n",
              "      resolve(null);\n",
              "    };\n",
              "  });\n",
              "\n",
              "  // Wait for the user to pick the files.\n",
              "  const files = yield {\n",
              "    promise: Promise.race([pickedPromise, cancelPromise]),\n",
              "    response: {\n",
              "      action: 'starting',\n",
              "    }\n",
              "  };\n",
              "\n",
              "  cancel.remove();\n",
              "\n",
              "  // Disable the input element since further picks are not allowed.\n",
              "  inputElement.disabled = true;\n",
              "\n",
              "  if (!files) {\n",
              "    return {\n",
              "      response: {\n",
              "        action: 'complete',\n",
              "      }\n",
              "    };\n",
              "  }\n",
              "\n",
              "  for (const file of files) {\n",
              "    const li = document.createElement('li');\n",
              "    li.append(span(file.name, {fontWeight: 'bold'}));\n",
              "    li.append(span(\n",
              "        `(${file.type || 'n/a'}) - ${file.size} bytes, ` +\n",
              "        `last modified: ${\n",
              "            file.lastModifiedDate ? file.lastModifiedDate.toLocaleDateString() :\n",
              "                                    'n/a'} - `));\n",
              "    const percent = span('0% done');\n",
              "    li.appendChild(percent);\n",
              "\n",
              "    outputElement.appendChild(li);\n",
              "\n",
              "    const fileDataPromise = new Promise((resolve) => {\n",
              "      const reader = new FileReader();\n",
              "      reader.onload = (e) => {\n",
              "        resolve(e.target.result);\n",
              "      };\n",
              "      reader.readAsArrayBuffer(file);\n",
              "    });\n",
              "    // Wait for the data to be ready.\n",
              "    let fileData = yield {\n",
              "      promise: fileDataPromise,\n",
              "      response: {\n",
              "        action: 'continue',\n",
              "      }\n",
              "    };\n",
              "\n",
              "    // Use a chunked sending to avoid message size limits. See b/62115660.\n",
              "    let position = 0;\n",
              "    do {\n",
              "      const length = Math.min(fileData.byteLength - position, MAX_PAYLOAD_SIZE);\n",
              "      const chunk = new Uint8Array(fileData, position, length);\n",
              "      position += length;\n",
              "\n",
              "      const base64 = btoa(String.fromCharCode.apply(null, chunk));\n",
              "      yield {\n",
              "        response: {\n",
              "          action: 'append',\n",
              "          file: file.name,\n",
              "          data: base64,\n",
              "        },\n",
              "      };\n",
              "\n",
              "      let percentDone = fileData.byteLength === 0 ?\n",
              "          100 :\n",
              "          Math.round((position / fileData.byteLength) * 100);\n",
              "      percent.textContent = `${percentDone}% done`;\n",
              "\n",
              "    } while (position < fileData.byteLength);\n",
              "  }\n",
              "\n",
              "  // All done.\n",
              "  yield {\n",
              "    response: {\n",
              "      action: 'complete',\n",
              "    }\n",
              "  };\n",
              "}\n",
              "\n",
              "scope.google = scope.google || {};\n",
              "scope.google.colab = scope.google.colab || {};\n",
              "scope.google.colab._files = {\n",
              "  _uploadFiles,\n",
              "  _uploadFilesContinue,\n",
              "};\n",
              "})(self);\n",
              "</script> "
            ]
          },
          "metadata": {}
        },
        {
          "output_type": "stream",
          "name": "stdout",
          "text": [
            "Saving b517dfd59d2c5bd69e313ad17dc6ee4b.zip to b517dfd59d2c5bd69e313ad17dc6ee4b.zip\n"
          ]
        }
      ]
    },
    {
      "cell_type": "code",
      "source": [
        "!pip install xarray rioxarray netCDF4 rasterio"
      ],
      "metadata": {
        "colab": {
          "base_uri": "https://localhost:8080/"
        },
        "id": "mOebXUYHnmJU",
        "outputId": "400f256a-70e6-492d-decb-ae7ede12819e"
      },
      "execution_count": 4,
      "outputs": [
        {
          "output_type": "stream",
          "name": "stdout",
          "text": [
            "Requirement already satisfied: xarray in /usr/local/lib/python3.11/dist-packages (2025.3.1)\n",
            "Collecting rioxarray\n",
            "  Downloading rioxarray-0.19.0-py3-none-any.whl.metadata (5.5 kB)\n",
            "Collecting netCDF4\n",
            "  Downloading netCDF4-1.7.2-cp311-cp311-manylinux_2_17_x86_64.manylinux2014_x86_64.whl.metadata (1.8 kB)\n",
            "Collecting rasterio\n",
            "  Downloading rasterio-1.4.3-cp311-cp311-manylinux_2_17_x86_64.manylinux2014_x86_64.whl.metadata (9.1 kB)\n",
            "Requirement already satisfied: numpy>=1.24 in /usr/local/lib/python3.11/dist-packages (from xarray) (2.0.2)\n",
            "Requirement already satisfied: packaging>=23.2 in /usr/local/lib/python3.11/dist-packages (from xarray) (24.2)\n",
            "Requirement already satisfied: pandas>=2.1 in /usr/local/lib/python3.11/dist-packages (from xarray) (2.2.2)\n",
            "Requirement already satisfied: pyproj>=3.3 in /usr/local/lib/python3.11/dist-packages (from rioxarray) (3.7.1)\n",
            "Collecting cftime (from netCDF4)\n",
            "  Downloading cftime-1.6.4.post1-cp311-cp311-manylinux_2_17_x86_64.manylinux2014_x86_64.whl.metadata (8.7 kB)\n",
            "Requirement already satisfied: certifi in /usr/local/lib/python3.11/dist-packages (from netCDF4) (2025.6.15)\n",
            "Collecting affine (from rasterio)\n",
            "  Downloading affine-2.4.0-py3-none-any.whl.metadata (4.0 kB)\n",
            "Requirement already satisfied: attrs in /usr/local/lib/python3.11/dist-packages (from rasterio) (25.3.0)\n",
            "Requirement already satisfied: click>=4.0 in /usr/local/lib/python3.11/dist-packages (from rasterio) (8.2.1)\n",
            "Collecting cligj>=0.5 (from rasterio)\n",
            "  Downloading cligj-0.7.2-py3-none-any.whl.metadata (5.0 kB)\n",
            "Collecting click-plugins (from rasterio)\n",
            "  Downloading click_plugins-1.1.1.2-py2.py3-none-any.whl.metadata (6.5 kB)\n",
            "Requirement already satisfied: pyparsing in /usr/local/lib/python3.11/dist-packages (from rasterio) (3.2.3)\n",
            "Requirement already satisfied: python-dateutil>=2.8.2 in /usr/local/lib/python3.11/dist-packages (from pandas>=2.1->xarray) (2.9.0.post0)\n",
            "Requirement already satisfied: pytz>=2020.1 in /usr/local/lib/python3.11/dist-packages (from pandas>=2.1->xarray) (2025.2)\n",
            "Requirement already satisfied: tzdata>=2022.7 in /usr/local/lib/python3.11/dist-packages (from pandas>=2.1->xarray) (2025.2)\n",
            "Requirement already satisfied: six>=1.5 in /usr/local/lib/python3.11/dist-packages (from python-dateutil>=2.8.2->pandas>=2.1->xarray) (1.17.0)\n",
            "Downloading rioxarray-0.19.0-py3-none-any.whl (62 kB)\n",
            "\u001b[2K   \u001b[90m━━━━━━━━━━━━━━━━━━━━━━━━━━━━━━━━━━━━━━━━\u001b[0m \u001b[32m62.2/62.2 kB\u001b[0m \u001b[31m4.2 MB/s\u001b[0m eta \u001b[36m0:00:00\u001b[0m\n",
            "\u001b[?25hDownloading netCDF4-1.7.2-cp311-cp311-manylinux_2_17_x86_64.manylinux2014_x86_64.whl (9.3 MB)\n",
            "\u001b[2K   \u001b[90m━━━━━━━━━━━━━━━━━━━━━━━━━━━━━━━━━━━━━━━━\u001b[0m \u001b[32m9.3/9.3 MB\u001b[0m \u001b[31m68.9 MB/s\u001b[0m eta \u001b[36m0:00:00\u001b[0m\n",
            "\u001b[?25hDownloading rasterio-1.4.3-cp311-cp311-manylinux_2_17_x86_64.manylinux2014_x86_64.whl (22.2 MB)\n",
            "\u001b[2K   \u001b[90m━━━━━━━━━━━━━━━━━━━━━━━━━━━━━━━━━━━━━━━━\u001b[0m \u001b[32m22.2/22.2 MB\u001b[0m \u001b[31m86.0 MB/s\u001b[0m eta \u001b[36m0:00:00\u001b[0m\n",
            "\u001b[?25hDownloading cligj-0.7.2-py3-none-any.whl (7.1 kB)\n",
            "Downloading affine-2.4.0-py3-none-any.whl (15 kB)\n",
            "Downloading cftime-1.6.4.post1-cp311-cp311-manylinux_2_17_x86_64.manylinux2014_x86_64.whl (1.4 MB)\n",
            "\u001b[2K   \u001b[90m━━━━━━━━━━━━━━━━━━━━━━━━━━━━━━━━━━━━━━━━\u001b[0m \u001b[32m1.4/1.4 MB\u001b[0m \u001b[31m69.1 MB/s\u001b[0m eta \u001b[36m0:00:00\u001b[0m\n",
            "\u001b[?25hDownloading click_plugins-1.1.1.2-py2.py3-none-any.whl (11 kB)\n",
            "Installing collected packages: cligj, click-plugins, cftime, affine, rasterio, netCDF4, rioxarray\n",
            "Successfully installed affine-2.4.0 cftime-1.6.4.post1 click-plugins-1.1.1.2 cligj-0.7.2 netCDF4-1.7.2 rasterio-1.4.3 rioxarray-0.19.0\n"
          ]
        }
      ]
    },
    {
      "cell_type": "code",
      "source": [
        "import zipfile\n",
        "import os\n",
        "\n",
        "# Get the uploaded file name\n",
        "zip_filename = list(uploaded.keys())[0]\n",
        "\n",
        "# Create extraction folder\n",
        "extract_dir = \"weather_data\"\n",
        "os.makedirs(extract_dir, exist_ok=True)\n",
        "\n",
        "# Extract contents\n",
        "with zipfile.ZipFile(zip_filename, 'r') as zip_ref:\n",
        "    zip_ref.extractall(extract_dir)\n",
        "\n",
        "print(f\"✅ Extracted to '{extract_dir}/'\")"
      ],
      "metadata": {
        "colab": {
          "base_uri": "https://localhost:8080/"
        },
        "id": "zG7872jQoP6D",
        "outputId": "f0c0b792-b4cb-4b34-ac7c-6a834b807c57"
      },
      "execution_count": 5,
      "outputs": [
        {
          "output_type": "stream",
          "name": "stdout",
          "text": [
            "✅ Extracted to 'weather_data/'\n"
          ]
        }
      ]
    },
    {
      "cell_type": "code",
      "source": [
        "# List extracted files\n",
        "for file in os.listdir(extract_dir):\n",
        "    print(file)"
      ],
      "metadata": {
        "colab": {
          "base_uri": "https://localhost:8080/"
        },
        "id": "JOHwh2B1o6v9",
        "outputId": "332105f9-388a-444a-99de-d74ac12a83cf"
      },
      "execution_count": 6,
      "outputs": [
        {
          "output_type": "stream",
          "name": "stdout",
          "text": [
            "data_stream-oper_stepType-instant.nc\n",
            "data_stream-oper_stepType-accum.nc\n"
          ]
        }
      ]
    },
    {
      "cell_type": "code",
      "source": [
        "import xarray as xr\n",
        "\n",
        "ds_instant = xr.open_dataset(\"weather_data/data_stream-oper_stepType-instant.nc\")\n",
        "ds_accum = xr.open_dataset(\"weather_data/data_stream-oper_stepType-accum.nc\")"
      ],
      "metadata": {
        "id": "eijcYtUVpOnE"
      },
      "execution_count": 7,
      "outputs": []
    },
    {
      "cell_type": "code",
      "source": [
        "from pathlib import Path\n",
        "import xarray as xr\n",
        "import rioxarray as rxr\n",
        "import os\n",
        "\n",
        "# Load both datasets\n",
        "ds_instant = xr.open_dataset(\"weather_data/data_stream-oper_stepType-instant.nc\")\n",
        "ds_accum = xr.open_dataset(\"weather_data/data_stream-oper_stepType-accum.nc\")\n",
        "\n",
        "output_dir = \"geotiffs\"\n",
        "os.makedirs(output_dir, exist_ok=True)\n",
        "\n",
        "# Variable: (dataset, output_name)\n",
        "var_sources = {\n",
        "    't2m': (ds_instant, 'temperature'),\n",
        "    'u10': (ds_instant, 'u_wind'),\n",
        "    'v10': (ds_instant, 'v_wind'),\n",
        "    'd2m': (ds_instant, 'dewpoint'),\n",
        "    'tp':  (ds_accum, 'precipitation'),\n",
        "}\n",
        "\n",
        "for var, (src, out_name) in var_sources.items():\n",
        "    da = src[var].isel(valid_time=0)  # ✅ Fix here\n",
        "    da.rio.set_spatial_dims(x_dim=\"longitude\", y_dim=\"latitude\", inplace=True)\n",
        "    da.rio.write_crs(\"EPSG:4326\", inplace=True)\n",
        "    da.rio.to_raster(f\"{output_dir}/{out_name}.tif\")\n",
        "    print(f\"✅ Saved: {output_dir}/{out_name}.tif\")"
      ],
      "metadata": {
        "colab": {
          "base_uri": "https://localhost:8080/"
        },
        "id": "kPpjzlXjpR8u",
        "outputId": "390a0f50-5ecc-4e19-aaff-a3aea50085a6"
      },
      "execution_count": 8,
      "outputs": [
        {
          "output_type": "stream",
          "name": "stdout",
          "text": [
            "✅ Saved: geotiffs/temperature.tif\n",
            "✅ Saved: geotiffs/u_wind.tif\n",
            "✅ Saved: geotiffs/v_wind.tif\n",
            "✅ Saved: geotiffs/dewpoint.tif\n",
            "✅ Saved: geotiffs/precipitation.tif\n"
          ]
        }
      ]
    },
    {
      "cell_type": "code",
      "source": [
        "from google.colab import files\n",
        "uploaded = files.upload()  # Select all your downloaded `.tif` files"
      ],
      "metadata": {
        "colab": {
          "base_uri": "https://localhost:8080/",
          "height": 787
        },
        "id": "tuP9fjaH5rUF",
        "outputId": "bcd1cf3f-7f6a-40e8-8cf2-1e1fd31ba245"
      },
      "execution_count": 9,
      "outputs": [
        {
          "output_type": "display_data",
          "data": {
            "text/plain": [
              "<IPython.core.display.HTML object>"
            ],
            "text/html": [
              "\n",
              "     <input type=\"file\" id=\"files-7d948ffc-0adf-4e80-81a9-fba6e194b5be\" name=\"files[]\" multiple disabled\n",
              "        style=\"border:none\" />\n",
              "     <output id=\"result-7d948ffc-0adf-4e80-81a9-fba6e194b5be\">\n",
              "      Upload widget is only available when the cell has been executed in the\n",
              "      current browser session. Please rerun this cell to enable.\n",
              "      </output>\n",
              "      <script>// Copyright 2017 Google LLC\n",
              "//\n",
              "// Licensed under the Apache License, Version 2.0 (the \"License\");\n",
              "// you may not use this file except in compliance with the License.\n",
              "// You may obtain a copy of the License at\n",
              "//\n",
              "//      http://www.apache.org/licenses/LICENSE-2.0\n",
              "//\n",
              "// Unless required by applicable law or agreed to in writing, software\n",
              "// distributed under the License is distributed on an \"AS IS\" BASIS,\n",
              "// WITHOUT WARRANTIES OR CONDITIONS OF ANY KIND, either express or implied.\n",
              "// See the License for the specific language governing permissions and\n",
              "// limitations under the License.\n",
              "\n",
              "/**\n",
              " * @fileoverview Helpers for google.colab Python module.\n",
              " */\n",
              "(function(scope) {\n",
              "function span(text, styleAttributes = {}) {\n",
              "  const element = document.createElement('span');\n",
              "  element.textContent = text;\n",
              "  for (const key of Object.keys(styleAttributes)) {\n",
              "    element.style[key] = styleAttributes[key];\n",
              "  }\n",
              "  return element;\n",
              "}\n",
              "\n",
              "// Max number of bytes which will be uploaded at a time.\n",
              "const MAX_PAYLOAD_SIZE = 100 * 1024;\n",
              "\n",
              "function _uploadFiles(inputId, outputId) {\n",
              "  const steps = uploadFilesStep(inputId, outputId);\n",
              "  const outputElement = document.getElementById(outputId);\n",
              "  // Cache steps on the outputElement to make it available for the next call\n",
              "  // to uploadFilesContinue from Python.\n",
              "  outputElement.steps = steps;\n",
              "\n",
              "  return _uploadFilesContinue(outputId);\n",
              "}\n",
              "\n",
              "// This is roughly an async generator (not supported in the browser yet),\n",
              "// where there are multiple asynchronous steps and the Python side is going\n",
              "// to poll for completion of each step.\n",
              "// This uses a Promise to block the python side on completion of each step,\n",
              "// then passes the result of the previous step as the input to the next step.\n",
              "function _uploadFilesContinue(outputId) {\n",
              "  const outputElement = document.getElementById(outputId);\n",
              "  const steps = outputElement.steps;\n",
              "\n",
              "  const next = steps.next(outputElement.lastPromiseValue);\n",
              "  return Promise.resolve(next.value.promise).then((value) => {\n",
              "    // Cache the last promise value to make it available to the next\n",
              "    // step of the generator.\n",
              "    outputElement.lastPromiseValue = value;\n",
              "    return next.value.response;\n",
              "  });\n",
              "}\n",
              "\n",
              "/**\n",
              " * Generator function which is called between each async step of the upload\n",
              " * process.\n",
              " * @param {string} inputId Element ID of the input file picker element.\n",
              " * @param {string} outputId Element ID of the output display.\n",
              " * @return {!Iterable<!Object>} Iterable of next steps.\n",
              " */\n",
              "function* uploadFilesStep(inputId, outputId) {\n",
              "  const inputElement = document.getElementById(inputId);\n",
              "  inputElement.disabled = false;\n",
              "\n",
              "  const outputElement = document.getElementById(outputId);\n",
              "  outputElement.innerHTML = '';\n",
              "\n",
              "  const pickedPromise = new Promise((resolve) => {\n",
              "    inputElement.addEventListener('change', (e) => {\n",
              "      resolve(e.target.files);\n",
              "    });\n",
              "  });\n",
              "\n",
              "  const cancel = document.createElement('button');\n",
              "  inputElement.parentElement.appendChild(cancel);\n",
              "  cancel.textContent = 'Cancel upload';\n",
              "  const cancelPromise = new Promise((resolve) => {\n",
              "    cancel.onclick = () => {\n",
              "      resolve(null);\n",
              "    };\n",
              "  });\n",
              "\n",
              "  // Wait for the user to pick the files.\n",
              "  const files = yield {\n",
              "    promise: Promise.race([pickedPromise, cancelPromise]),\n",
              "    response: {\n",
              "      action: 'starting',\n",
              "    }\n",
              "  };\n",
              "\n",
              "  cancel.remove();\n",
              "\n",
              "  // Disable the input element since further picks are not allowed.\n",
              "  inputElement.disabled = true;\n",
              "\n",
              "  if (!files) {\n",
              "    return {\n",
              "      response: {\n",
              "        action: 'complete',\n",
              "      }\n",
              "    };\n",
              "  }\n",
              "\n",
              "  for (const file of files) {\n",
              "    const li = document.createElement('li');\n",
              "    li.append(span(file.name, {fontWeight: 'bold'}));\n",
              "    li.append(span(\n",
              "        `(${file.type || 'n/a'}) - ${file.size} bytes, ` +\n",
              "        `last modified: ${\n",
              "            file.lastModifiedDate ? file.lastModifiedDate.toLocaleDateString() :\n",
              "                                    'n/a'} - `));\n",
              "    const percent = span('0% done');\n",
              "    li.appendChild(percent);\n",
              "\n",
              "    outputElement.appendChild(li);\n",
              "\n",
              "    const fileDataPromise = new Promise((resolve) => {\n",
              "      const reader = new FileReader();\n",
              "      reader.onload = (e) => {\n",
              "        resolve(e.target.result);\n",
              "      };\n",
              "      reader.readAsArrayBuffer(file);\n",
              "    });\n",
              "    // Wait for the data to be ready.\n",
              "    let fileData = yield {\n",
              "      promise: fileDataPromise,\n",
              "      response: {\n",
              "        action: 'continue',\n",
              "      }\n",
              "    };\n",
              "\n",
              "    // Use a chunked sending to avoid message size limits. See b/62115660.\n",
              "    let position = 0;\n",
              "    do {\n",
              "      const length = Math.min(fileData.byteLength - position, MAX_PAYLOAD_SIZE);\n",
              "      const chunk = new Uint8Array(fileData, position, length);\n",
              "      position += length;\n",
              "\n",
              "      const base64 = btoa(String.fromCharCode.apply(null, chunk));\n",
              "      yield {\n",
              "        response: {\n",
              "          action: 'append',\n",
              "          file: file.name,\n",
              "          data: base64,\n",
              "        },\n",
              "      };\n",
              "\n",
              "      let percentDone = fileData.byteLength === 0 ?\n",
              "          100 :\n",
              "          Math.round((position / fileData.byteLength) * 100);\n",
              "      percent.textContent = `${percentDone}% done`;\n",
              "\n",
              "    } while (position < fileData.byteLength);\n",
              "  }\n",
              "\n",
              "  // All done.\n",
              "  yield {\n",
              "    response: {\n",
              "      action: 'complete',\n",
              "    }\n",
              "  };\n",
              "}\n",
              "\n",
              "scope.google = scope.google || {};\n",
              "scope.google.colab = scope.google.colab || {};\n",
              "scope.google.colab._files = {\n",
              "  _uploadFiles,\n",
              "  _uploadFilesContinue,\n",
              "};\n",
              "})(self);\n",
              "</script> "
            ]
          },
          "metadata": {}
        },
        {
          "output_type": "stream",
          "name": "stdout",
          "text": [
            "Saving P5_PAN_CD_N28_000_E079_000_DEM_30m.tif to P5_PAN_CD_N28_000_E079_000_DEM_30m.tif\n",
            "Saving P5_PAN_CD_N28_000_E080_000_DEM_30m.tif to P5_PAN_CD_N28_000_E080_000_DEM_30m.tif\n",
            "Saving P5_PAN_CD_N29_000_E077_000_DEM_30m.tif to P5_PAN_CD_N29_000_E077_000_DEM_30m.tif\n",
            "Saving P5_PAN_CD_N29_000_E078_000_DEM_30m.tif to P5_PAN_CD_N29_000_E078_000_DEM_30m.tif\n",
            "Saving P5_PAN_CD_N29_000_E079_000_DEM_30m.tif to P5_PAN_CD_N29_000_E079_000_DEM_30m.tif\n",
            "Saving P5_PAN_CD_N29_000_E080_000_DEM_30m.tif to P5_PAN_CD_N29_000_E080_000_DEM_30m.tif\n",
            "Saving P5_PAN_CD_N30_000_E077_000_DEM_30m.tif to P5_PAN_CD_N30_000_E077_000_DEM_30m.tif\n",
            "Saving P5_PAN_CD_N30_000_E078_000_DEM_30m.tif to P5_PAN_CD_N30_000_E078_000_DEM_30m.tif\n",
            "Saving P5_PAN_CD_N30_000_E079_000_DEM_30m.tif to P5_PAN_CD_N30_000_E079_000_DEM_30m.tif\n",
            "Saving P5_PAN_CD_N30_000_E080_000_DEM_30m.tif to P5_PAN_CD_N30_000_E080_000_DEM_30m.tif\n",
            "Saving P5_PAN_CD_N30_000_E081_000_DEM_30m.tif to P5_PAN_CD_N30_000_E081_000_DEM_30m.tif\n",
            "Saving P5_PAN_CD_N31_000_E077_000_DEM_30m.tif to P5_PAN_CD_N31_000_E077_000_DEM_30m.tif\n",
            "Saving P5_PAN_CD_N31_000_E078_000_DEM_30m.tif to P5_PAN_CD_N31_000_E078_000_DEM_30m.tif\n",
            "Saving P5_PAN_CD_N31_000_E079_000_DEM_30m.tif to P5_PAN_CD_N31_000_E079_000_DEM_30m.tif\n"
          ]
        }
      ]
    },
    {
      "cell_type": "code",
      "source": [
        "import rasterio\n",
        "from rasterio.merge import merge\n",
        "import os\n",
        "import glob\n",
        "\n",
        "# Save all uploaded files temporarily\n",
        "os.makedirs(\"dem_tiles\", exist_ok=True)\n",
        "for fname in uploaded.keys():\n",
        "    os.rename(fname, f\"dem_tiles/{fname}\")\n",
        "\n",
        "# Merge all .tif files in dem_tiles\n",
        "tif_files = glob.glob(\"dem_tiles/*.tif\")\n",
        "src_files_to_mosaic = [rasterio.open(fp) for fp in tif_files]\n",
        "\n",
        "mosaic, out_trans = merge(src_files_to_mosaic)\n",
        "\n",
        "# Save merged DEM\n",
        "merged_path = \"uttarakhand_dem_30m.tif\"\n",
        "out_meta = src_files_to_mosaic[0].meta.copy()\n",
        "out_meta.update({\n",
        "    \"driver\": \"GTiff\",\n",
        "    \"height\": mosaic.shape[1],\n",
        "    \"width\": mosaic.shape[2],\n",
        "    \"transform\": out_trans,\n",
        "    \"crs\": src_files_to_mosaic[0].crs\n",
        "})\n",
        "\n",
        "with rasterio.open(merged_path, \"w\", **out_meta) as dest:\n",
        "    dest.write(mosaic)\n",
        "\n",
        "print(\"✅ Merged DEM saved as:\", merged_path)"
      ],
      "metadata": {
        "colab": {
          "base_uri": "https://localhost:8080/"
        },
        "id": "IAgZbC8UHmrF",
        "outputId": "2ce5b6b4-8f53-4d2e-f65b-ba28c77e7629"
      },
      "execution_count": 10,
      "outputs": [
        {
          "output_type": "stream",
          "name": "stdout",
          "text": [
            "✅ Merged DEM saved as: uttarakhand_dem_30m.tif\n"
          ]
        }
      ]
    },
    {
      "cell_type": "code",
      "source": [
        "from osgeo import gdal\n",
        "\n",
        "# Generate slope\n",
        "gdal.DEMProcessing(\"geotiffs/slope.tif\", merged_path, \"slope\", computeEdges=True)\n",
        "\n",
        "# Generate aspect\n",
        "gdal.DEMProcessing(\"geotiffs/aspect.tif\", merged_path, \"aspect\", computeEdges=True)\n",
        "\n",
        "print(\"✅ Slope and aspect saved to 'geotiffs/'\")"
      ],
      "metadata": {
        "colab": {
          "base_uri": "https://localhost:8080/"
        },
        "id": "bmS-5accHt8a",
        "outputId": "ec4bd84e-5ae3-438f-cb20-a16b46e50458"
      },
      "execution_count": 11,
      "outputs": [
        {
          "output_type": "stream",
          "name": "stderr",
          "text": [
            "/usr/local/lib/python3.11/dist-packages/osgeo/gdal.py:312: FutureWarning: Neither gdal.UseExceptions() nor gdal.DontUseExceptions() has been explicitly called. In GDAL 4.0, exceptions will be enabled by default.\n",
            "  warnings.warn(\n"
          ]
        },
        {
          "output_type": "stream",
          "name": "stdout",
          "text": [
            "✅ Slope and aspect saved to 'geotiffs/'\n"
          ]
        }
      ]
    },
    {
      "cell_type": "code",
      "source": [
        "import rasterio\n",
        "from rasterio.enums import Resampling\n",
        "import numpy as np\n",
        "\n",
        "# Set temperature.tif as reference\n",
        "ref_path = \"geotiffs/temperature.tif\"\n",
        "ref_raster = rasterio.open(ref_path)\n",
        "ref_meta = ref_raster.meta\n",
        "ref_shape = (ref_meta['height'], ref_meta['width'])\n",
        "\n",
        "# Paths to all rasters to be aligned\n",
        "raster_files = [\n",
        "    \"geotiffs/temperature.tif\",\n",
        "    \"geotiffs/dewpoint.tif\",\n",
        "    \"geotiffs/u_wind.tif\",\n",
        "    \"geotiffs/v_wind.tif\",\n",
        "    \"geotiffs/precipitation.tif\",\n",
        "    \"geotiffs/slope.tif\",\n",
        "    \"geotiffs/aspect.tif\"\n",
        "]\n",
        "\n",
        "aligned_arrays = []\n",
        "\n",
        "for path in raster_files:\n",
        "    with rasterio.open(path) as src:\n",
        "        # Resample to match reference raster\n",
        "        data = src.read(\n",
        "            out_shape=(1, ref_shape[0], ref_shape[1]),\n",
        "            resampling=Resampling.bilinear\n",
        "        )[0]\n",
        "        aligned_arrays.append(data.astype(np.float32))\n",
        "\n",
        "# Now all arrays have same shape\n",
        "feature_stack = np.stack(aligned_arrays, axis=-1)\n",
        "\n",
        "print(\"✅ Feature stack created:\", feature_stack.shape)"
      ],
      "metadata": {
        "colab": {
          "base_uri": "https://localhost:8080/"
        },
        "id": "B8vz6OjyIFKO",
        "outputId": "37f3f494-4942-4ec4-d61d-f836199309ce"
      },
      "execution_count": 12,
      "outputs": [
        {
          "output_type": "stream",
          "name": "stdout",
          "text": [
            "✅ Feature stack created: (15, 17, 7)\n"
          ]
        }
      ]
    },
    {
      "cell_type": "code",
      "source": [
        "np.save(\"feature_stack.npy\", feature_stack)"
      ],
      "metadata": {
        "id": "mU0DbRyzIf43"
      },
      "execution_count": 13,
      "outputs": []
    },
    {
      "cell_type": "code",
      "source": [
        "from google.colab import files\n",
        "uploaded = files.upload()"
      ],
      "metadata": {
        "colab": {
          "base_uri": "https://localhost:8080/",
          "height": 73
        },
        "id": "LP3A4RZHPLkP",
        "outputId": "a5ea2301-f72e-4593-881e-ca63af1fc74b"
      },
      "execution_count": 14,
      "outputs": [
        {
          "output_type": "display_data",
          "data": {
            "text/plain": [
              "<IPython.core.display.HTML object>"
            ],
            "text/html": [
              "\n",
              "     <input type=\"file\" id=\"files-01358bb8-53e8-4e04-b723-5ea25b6e2510\" name=\"files[]\" multiple disabled\n",
              "        style=\"border:none\" />\n",
              "     <output id=\"result-01358bb8-53e8-4e04-b723-5ea25b6e2510\">\n",
              "      Upload widget is only available when the cell has been executed in the\n",
              "      current browser session. Please rerun this cell to enable.\n",
              "      </output>\n",
              "      <script>// Copyright 2017 Google LLC\n",
              "//\n",
              "// Licensed under the Apache License, Version 2.0 (the \"License\");\n",
              "// you may not use this file except in compliance with the License.\n",
              "// You may obtain a copy of the License at\n",
              "//\n",
              "//      http://www.apache.org/licenses/LICENSE-2.0\n",
              "//\n",
              "// Unless required by applicable law or agreed to in writing, software\n",
              "// distributed under the License is distributed on an \"AS IS\" BASIS,\n",
              "// WITHOUT WARRANTIES OR CONDITIONS OF ANY KIND, either express or implied.\n",
              "// See the License for the specific language governing permissions and\n",
              "// limitations under the License.\n",
              "\n",
              "/**\n",
              " * @fileoverview Helpers for google.colab Python module.\n",
              " */\n",
              "(function(scope) {\n",
              "function span(text, styleAttributes = {}) {\n",
              "  const element = document.createElement('span');\n",
              "  element.textContent = text;\n",
              "  for (const key of Object.keys(styleAttributes)) {\n",
              "    element.style[key] = styleAttributes[key];\n",
              "  }\n",
              "  return element;\n",
              "}\n",
              "\n",
              "// Max number of bytes which will be uploaded at a time.\n",
              "const MAX_PAYLOAD_SIZE = 100 * 1024;\n",
              "\n",
              "function _uploadFiles(inputId, outputId) {\n",
              "  const steps = uploadFilesStep(inputId, outputId);\n",
              "  const outputElement = document.getElementById(outputId);\n",
              "  // Cache steps on the outputElement to make it available for the next call\n",
              "  // to uploadFilesContinue from Python.\n",
              "  outputElement.steps = steps;\n",
              "\n",
              "  return _uploadFilesContinue(outputId);\n",
              "}\n",
              "\n",
              "// This is roughly an async generator (not supported in the browser yet),\n",
              "// where there are multiple asynchronous steps and the Python side is going\n",
              "// to poll for completion of each step.\n",
              "// This uses a Promise to block the python side on completion of each step,\n",
              "// then passes the result of the previous step as the input to the next step.\n",
              "function _uploadFilesContinue(outputId) {\n",
              "  const outputElement = document.getElementById(outputId);\n",
              "  const steps = outputElement.steps;\n",
              "\n",
              "  const next = steps.next(outputElement.lastPromiseValue);\n",
              "  return Promise.resolve(next.value.promise).then((value) => {\n",
              "    // Cache the last promise value to make it available to the next\n",
              "    // step of the generator.\n",
              "    outputElement.lastPromiseValue = value;\n",
              "    return next.value.response;\n",
              "  });\n",
              "}\n",
              "\n",
              "/**\n",
              " * Generator function which is called between each async step of the upload\n",
              " * process.\n",
              " * @param {string} inputId Element ID of the input file picker element.\n",
              " * @param {string} outputId Element ID of the output display.\n",
              " * @return {!Iterable<!Object>} Iterable of next steps.\n",
              " */\n",
              "function* uploadFilesStep(inputId, outputId) {\n",
              "  const inputElement = document.getElementById(inputId);\n",
              "  inputElement.disabled = false;\n",
              "\n",
              "  const outputElement = document.getElementById(outputId);\n",
              "  outputElement.innerHTML = '';\n",
              "\n",
              "  const pickedPromise = new Promise((resolve) => {\n",
              "    inputElement.addEventListener('change', (e) => {\n",
              "      resolve(e.target.files);\n",
              "    });\n",
              "  });\n",
              "\n",
              "  const cancel = document.createElement('button');\n",
              "  inputElement.parentElement.appendChild(cancel);\n",
              "  cancel.textContent = 'Cancel upload';\n",
              "  const cancelPromise = new Promise((resolve) => {\n",
              "    cancel.onclick = () => {\n",
              "      resolve(null);\n",
              "    };\n",
              "  });\n",
              "\n",
              "  // Wait for the user to pick the files.\n",
              "  const files = yield {\n",
              "    promise: Promise.race([pickedPromise, cancelPromise]),\n",
              "    response: {\n",
              "      action: 'starting',\n",
              "    }\n",
              "  };\n",
              "\n",
              "  cancel.remove();\n",
              "\n",
              "  // Disable the input element since further picks are not allowed.\n",
              "  inputElement.disabled = true;\n",
              "\n",
              "  if (!files) {\n",
              "    return {\n",
              "      response: {\n",
              "        action: 'complete',\n",
              "      }\n",
              "    };\n",
              "  }\n",
              "\n",
              "  for (const file of files) {\n",
              "    const li = document.createElement('li');\n",
              "    li.append(span(file.name, {fontWeight: 'bold'}));\n",
              "    li.append(span(\n",
              "        `(${file.type || 'n/a'}) - ${file.size} bytes, ` +\n",
              "        `last modified: ${\n",
              "            file.lastModifiedDate ? file.lastModifiedDate.toLocaleDateString() :\n",
              "                                    'n/a'} - `));\n",
              "    const percent = span('0% done');\n",
              "    li.appendChild(percent);\n",
              "\n",
              "    outputElement.appendChild(li);\n",
              "\n",
              "    const fileDataPromise = new Promise((resolve) => {\n",
              "      const reader = new FileReader();\n",
              "      reader.onload = (e) => {\n",
              "        resolve(e.target.result);\n",
              "      };\n",
              "      reader.readAsArrayBuffer(file);\n",
              "    });\n",
              "    // Wait for the data to be ready.\n",
              "    let fileData = yield {\n",
              "      promise: fileDataPromise,\n",
              "      response: {\n",
              "        action: 'continue',\n",
              "      }\n",
              "    };\n",
              "\n",
              "    // Use a chunked sending to avoid message size limits. See b/62115660.\n",
              "    let position = 0;\n",
              "    do {\n",
              "      const length = Math.min(fileData.byteLength - position, MAX_PAYLOAD_SIZE);\n",
              "      const chunk = new Uint8Array(fileData, position, length);\n",
              "      position += length;\n",
              "\n",
              "      const base64 = btoa(String.fromCharCode.apply(null, chunk));\n",
              "      yield {\n",
              "        response: {\n",
              "          action: 'append',\n",
              "          file: file.name,\n",
              "          data: base64,\n",
              "        },\n",
              "      };\n",
              "\n",
              "      let percentDone = fileData.byteLength === 0 ?\n",
              "          100 :\n",
              "          Math.round((position / fileData.byteLength) * 100);\n",
              "      percent.textContent = `${percentDone}% done`;\n",
              "\n",
              "    } while (position < fileData.byteLength);\n",
              "  }\n",
              "\n",
              "  // All done.\n",
              "  yield {\n",
              "    response: {\n",
              "      action: 'complete',\n",
              "    }\n",
              "  };\n",
              "}\n",
              "\n",
              "scope.google = scope.google || {};\n",
              "scope.google.colab = scope.google.colab || {};\n",
              "scope.google.colab._files = {\n",
              "  _uploadFiles,\n",
              "  _uploadFilesContinue,\n",
              "};\n",
              "})(self);\n",
              "</script> "
            ]
          },
          "metadata": {}
        },
        {
          "output_type": "stream",
          "name": "stdout",
          "text": [
            "Saving fire_archive_SV-C2_628973.csv to fire_archive_SV-C2_628973.csv\n"
          ]
        }
      ]
    },
    {
      "cell_type": "code",
      "source": [
        "import pandas as pd\n",
        "import os\n",
        "\n",
        "# Get uploaded CSV filename\n",
        "fire_csv = list(uploaded.keys())[0]\n",
        "print(\"✅ Uploaded:\", fire_csv)\n",
        "\n",
        "# Load the fire data\n",
        "df = pd.read_csv(fire_csv)\n",
        "\n",
        "# Check column names (just to be sure)\n",
        "print(df.columns)"
      ],
      "metadata": {
        "colab": {
          "base_uri": "https://localhost:8080/"
        },
        "id": "cpwWtOhUPvjs",
        "outputId": "7dac4e66-817f-47fd-9b68-bf845a7a7a78"
      },
      "execution_count": 15,
      "outputs": [
        {
          "output_type": "stream",
          "name": "stdout",
          "text": [
            "✅ Uploaded: fire_archive_SV-C2_628973.csv\n",
            "Index(['latitude', 'longitude', 'brightness', 'scan', 'track', 'acq_date',\n",
            "       'acq_time', 'satellite', 'instrument', 'confidence', 'version',\n",
            "       'bright_t31', 'frp', 'daynight', 'type'],\n",
            "      dtype='object')\n"
          ]
        }
      ]
    },
    {
      "cell_type": "code",
      "source": [
        "import pandas as pd\n",
        "\n",
        "df = pd.read_csv(\"fire_archive_SV-C2_628973.csv\")\n",
        "\n",
        "# Convert confidence: 'l', 'n', 'h' ➝ 30, 60, 90\n",
        "conf_map = {'l': 30, 'n': 60, 'h': 90}\n",
        "df['confidence_score'] = df['confidence'].str.lower().map(conf_map)\n",
        "\n",
        "# Drop invalid rows\n",
        "df = df.dropna(subset=['latitude', 'longitude', 'confidence_score'])\n",
        "\n",
        "print(\"✅ Fire points with valid confidence:\", len(df))"
      ],
      "metadata": {
        "colab": {
          "base_uri": "https://localhost:8080/"
        },
        "id": "GwAMeyK3QCwL",
        "outputId": "43edc54d-cb13-4b28-b1e3-2fe5b3249f08"
      },
      "execution_count": 16,
      "outputs": [
        {
          "output_type": "stream",
          "name": "stdout",
          "text": [
            "✅ Fire points with valid confidence: 86193\n"
          ]
        }
      ]
    },
    {
      "cell_type": "code",
      "source": [
        "from shapely.geometry import Point\n",
        "import geopandas as gpd\n",
        "import rasterio\n",
        "from rasterio.features import rasterize\n",
        "import numpy as np\n",
        "\n",
        "# Filter high-confidence fires only\n",
        "df = df[df['confidence_score'] >= 80]\n",
        "\n",
        "# Convert to GeoDataFrame\n",
        "geometry = [Point(xy) for xy in zip(df.longitude, df.latitude)]\n",
        "gdf = gpd.GeoDataFrame(df, geometry=geometry, crs=\"EPSG:4326\")\n",
        "\n",
        "# Use temperature.tif as reference\n",
        "with rasterio.open(\"geotiffs/temperature.tif\") as ref:\n",
        "    height = ref.height\n",
        "    width = ref.width\n",
        "    crs = ref.crs\n",
        "    transform = ref.transform\n",
        "\n",
        "# Project fire points to raster CRS\n",
        "gdf = gdf.to_crs(crs)\n",
        "\n",
        "# Rasterize: 1 for fire, 0 for background\n",
        "shapes = ((geom, 1) for geom in gdf.geometry)\n",
        "fire_mask = rasterize(\n",
        "    shapes,\n",
        "    out_shape=(height, width),\n",
        "    transform=transform,\n",
        "    fill=0,\n",
        "    dtype='uint8'\n",
        ")\n",
        "\n",
        "np.save(\"label_mask.npy\", fire_mask)\n",
        "\n",
        "print(\"✅ Fire label mask saved as 'label_mask.npy'\")\n",
        "print(\"🔥 Fire pixels found:\", np.sum(fire_mask))"
      ],
      "metadata": {
        "colab": {
          "base_uri": "https://localhost:8080/"
        },
        "id": "LsV6Cg1wR6OK",
        "outputId": "37a8cb1e-11a0-452e-c868-e998b43c6144"
      },
      "execution_count": 17,
      "outputs": [
        {
          "output_type": "stream",
          "name": "stdout",
          "text": [
            "✅ Fire label mask saved as 'label_mask.npy'\n",
            "🔥 Fire pixels found: 26\n"
          ]
        }
      ]
    },
    {
      "cell_type": "code",
      "source": [
        "from google.colab import files\n",
        "uploaded = files.upload()"
      ],
      "metadata": {
        "colab": {
          "base_uri": "https://localhost:8080/",
          "height": 73
        },
        "id": "kT50eyCNUXR0",
        "outputId": "2997040d-25ff-4ced-827f-be25ef17a9b6"
      },
      "execution_count": 18,
      "outputs": [
        {
          "output_type": "display_data",
          "data": {
            "text/plain": [
              "<IPython.core.display.HTML object>"
            ],
            "text/html": [
              "\n",
              "     <input type=\"file\" id=\"files-c4bce303-9846-46f6-a632-11234f35c349\" name=\"files[]\" multiple disabled\n",
              "        style=\"border:none\" />\n",
              "     <output id=\"result-c4bce303-9846-46f6-a632-11234f35c349\">\n",
              "      Upload widget is only available when the cell has been executed in the\n",
              "      current browser session. Please rerun this cell to enable.\n",
              "      </output>\n",
              "      <script>// Copyright 2017 Google LLC\n",
              "//\n",
              "// Licensed under the Apache License, Version 2.0 (the \"License\");\n",
              "// you may not use this file except in compliance with the License.\n",
              "// You may obtain a copy of the License at\n",
              "//\n",
              "//      http://www.apache.org/licenses/LICENSE-2.0\n",
              "//\n",
              "// Unless required by applicable law or agreed to in writing, software\n",
              "// distributed under the License is distributed on an \"AS IS\" BASIS,\n",
              "// WITHOUT WARRANTIES OR CONDITIONS OF ANY KIND, either express or implied.\n",
              "// See the License for the specific language governing permissions and\n",
              "// limitations under the License.\n",
              "\n",
              "/**\n",
              " * @fileoverview Helpers for google.colab Python module.\n",
              " */\n",
              "(function(scope) {\n",
              "function span(text, styleAttributes = {}) {\n",
              "  const element = document.createElement('span');\n",
              "  element.textContent = text;\n",
              "  for (const key of Object.keys(styleAttributes)) {\n",
              "    element.style[key] = styleAttributes[key];\n",
              "  }\n",
              "  return element;\n",
              "}\n",
              "\n",
              "// Max number of bytes which will be uploaded at a time.\n",
              "const MAX_PAYLOAD_SIZE = 100 * 1024;\n",
              "\n",
              "function _uploadFiles(inputId, outputId) {\n",
              "  const steps = uploadFilesStep(inputId, outputId);\n",
              "  const outputElement = document.getElementById(outputId);\n",
              "  // Cache steps on the outputElement to make it available for the next call\n",
              "  // to uploadFilesContinue from Python.\n",
              "  outputElement.steps = steps;\n",
              "\n",
              "  return _uploadFilesContinue(outputId);\n",
              "}\n",
              "\n",
              "// This is roughly an async generator (not supported in the browser yet),\n",
              "// where there are multiple asynchronous steps and the Python side is going\n",
              "// to poll for completion of each step.\n",
              "// This uses a Promise to block the python side on completion of each step,\n",
              "// then passes the result of the previous step as the input to the next step.\n",
              "function _uploadFilesContinue(outputId) {\n",
              "  const outputElement = document.getElementById(outputId);\n",
              "  const steps = outputElement.steps;\n",
              "\n",
              "  const next = steps.next(outputElement.lastPromiseValue);\n",
              "  return Promise.resolve(next.value.promise).then((value) => {\n",
              "    // Cache the last promise value to make it available to the next\n",
              "    // step of the generator.\n",
              "    outputElement.lastPromiseValue = value;\n",
              "    return next.value.response;\n",
              "  });\n",
              "}\n",
              "\n",
              "/**\n",
              " * Generator function which is called between each async step of the upload\n",
              " * process.\n",
              " * @param {string} inputId Element ID of the input file picker element.\n",
              " * @param {string} outputId Element ID of the output display.\n",
              " * @return {!Iterable<!Object>} Iterable of next steps.\n",
              " */\n",
              "function* uploadFilesStep(inputId, outputId) {\n",
              "  const inputElement = document.getElementById(inputId);\n",
              "  inputElement.disabled = false;\n",
              "\n",
              "  const outputElement = document.getElementById(outputId);\n",
              "  outputElement.innerHTML = '';\n",
              "\n",
              "  const pickedPromise = new Promise((resolve) => {\n",
              "    inputElement.addEventListener('change', (e) => {\n",
              "      resolve(e.target.files);\n",
              "    });\n",
              "  });\n",
              "\n",
              "  const cancel = document.createElement('button');\n",
              "  inputElement.parentElement.appendChild(cancel);\n",
              "  cancel.textContent = 'Cancel upload';\n",
              "  const cancelPromise = new Promise((resolve) => {\n",
              "    cancel.onclick = () => {\n",
              "      resolve(null);\n",
              "    };\n",
              "  });\n",
              "\n",
              "  // Wait for the user to pick the files.\n",
              "  const files = yield {\n",
              "    promise: Promise.race([pickedPromise, cancelPromise]),\n",
              "    response: {\n",
              "      action: 'starting',\n",
              "    }\n",
              "  };\n",
              "\n",
              "  cancel.remove();\n",
              "\n",
              "  // Disable the input element since further picks are not allowed.\n",
              "  inputElement.disabled = true;\n",
              "\n",
              "  if (!files) {\n",
              "    return {\n",
              "      response: {\n",
              "        action: 'complete',\n",
              "      }\n",
              "    };\n",
              "  }\n",
              "\n",
              "  for (const file of files) {\n",
              "    const li = document.createElement('li');\n",
              "    li.append(span(file.name, {fontWeight: 'bold'}));\n",
              "    li.append(span(\n",
              "        `(${file.type || 'n/a'}) - ${file.size} bytes, ` +\n",
              "        `last modified: ${\n",
              "            file.lastModifiedDate ? file.lastModifiedDate.toLocaleDateString() :\n",
              "                                    'n/a'} - `));\n",
              "    const percent = span('0% done');\n",
              "    li.appendChild(percent);\n",
              "\n",
              "    outputElement.appendChild(li);\n",
              "\n",
              "    const fileDataPromise = new Promise((resolve) => {\n",
              "      const reader = new FileReader();\n",
              "      reader.onload = (e) => {\n",
              "        resolve(e.target.result);\n",
              "      };\n",
              "      reader.readAsArrayBuffer(file);\n",
              "    });\n",
              "    // Wait for the data to be ready.\n",
              "    let fileData = yield {\n",
              "      promise: fileDataPromise,\n",
              "      response: {\n",
              "        action: 'continue',\n",
              "      }\n",
              "    };\n",
              "\n",
              "    // Use a chunked sending to avoid message size limits. See b/62115660.\n",
              "    let position = 0;\n",
              "    do {\n",
              "      const length = Math.min(fileData.byteLength - position, MAX_PAYLOAD_SIZE);\n",
              "      const chunk = new Uint8Array(fileData, position, length);\n",
              "      position += length;\n",
              "\n",
              "      const base64 = btoa(String.fromCharCode.apply(null, chunk));\n",
              "      yield {\n",
              "        response: {\n",
              "          action: 'append',\n",
              "          file: file.name,\n",
              "          data: base64,\n",
              "        },\n",
              "      };\n",
              "\n",
              "      let percentDone = fileData.byteLength === 0 ?\n",
              "          100 :\n",
              "          Math.round((position / fileData.byteLength) * 100);\n",
              "      percent.textContent = `${percentDone}% done`;\n",
              "\n",
              "    } while (position < fileData.byteLength);\n",
              "  }\n",
              "\n",
              "  // All done.\n",
              "  yield {\n",
              "    response: {\n",
              "      action: 'complete',\n",
              "    }\n",
              "  };\n",
              "}\n",
              "\n",
              "scope.google = scope.google || {};\n",
              "scope.google.colab = scope.google.colab || {};\n",
              "scope.google.colab._files = {\n",
              "  _uploadFiles,\n",
              "  _uploadFilesContinue,\n",
              "};\n",
              "})(self);\n",
              "</script> "
            ]
          },
          "metadata": {}
        },
        {
          "output_type": "stream",
          "name": "stdout",
          "text": [
            "Saving ISRO DATASET.0.tif to ISRO DATASET.0.tif\n"
          ]
        }
      ]
    },
    {
      "cell_type": "code",
      "source": [
        "import rasterio\n",
        "import numpy as np\n",
        "\n",
        "lulc_path = list(uploaded.keys())[0]  # your uploaded LULC file\n",
        "\n",
        "# Open and read\n",
        "with rasterio.open(lulc_path) as src:\n",
        "    lulc = src.read(1)\n",
        "    meta = src.meta\n",
        "\n",
        "# Reclassify based on LULC class codes\n",
        "fuel = np.zeros_like(lulc, dtype=np.float32)\n",
        "fuel[lulc == 1] = 1.0\n",
        "fuel[lulc == 2] = 0.8\n",
        "fuel[lulc == 3] = 0.6\n",
        "fuel[lulc == 4] = 0.4\n",
        "fuel[lulc == 5] = 0.2\n",
        "fuel[(lulc >= 6)] = 0.0  # everything else\n",
        "\n",
        "np.save(\"fuel_availability.npy\", fuel)\n",
        "print(\"✅ Saved: fuel_availability.npy\")"
      ],
      "metadata": {
        "colab": {
          "base_uri": "https://localhost:8080/"
        },
        "id": "aZ6DPimHu_-K",
        "outputId": "ab3b03a1-48a9-4112-f613-e7fee40ec54a"
      },
      "execution_count": 19,
      "outputs": [
        {
          "output_type": "stream",
          "name": "stdout",
          "text": [
            "✅ Saved: fuel_availability.npy\n"
          ]
        }
      ]
    },
    {
      "cell_type": "code",
      "source": [
        "from rasterio.enums import Resampling\n",
        "\n",
        "# Match with temperature raster\n",
        "with rasterio.open(lulc_path) as src, rasterio.open(\"geotiffs/temperature.tif\") as ref:\n",
        "    fuel_resampled = src.read(\n",
        "        1,  # Band index 1 (first band)\n",
        "        out_shape=(ref.height, ref.width),\n",
        "        resampling=Resampling.nearest\n",
        "    )\n",
        "\n",
        "# Reclassify again (same as above)\n",
        "fuel = np.zeros_like(fuel_resampled, dtype=np.float32)\n",
        "fuel[fuel_resampled == 1] = 1.0\n",
        "fuel[fuel_resampled == 2] = 0.8\n",
        "fuel[fuel_resampled == 3] = 0.6\n",
        "fuel[fuel_resampled == 4] = 0.4\n",
        "fuel[fuel_resampled == 5] = 0.2\n",
        "fuel[(fuel_resampled >= 6)] = 0.0\n",
        "\n",
        "np.save(\"fuel_availability.npy\", fuel)\n",
        "print(\"✅ Resampled & saved: fuel_availability.npy\")"
      ],
      "metadata": {
        "colab": {
          "base_uri": "https://localhost:8080/"
        },
        "id": "lOYWmzgh5Xwn",
        "outputId": "8beb4e47-4d40-41d8-9800-441750316ce2"
      },
      "execution_count": 20,
      "outputs": [
        {
          "output_type": "stream",
          "name": "stdout",
          "text": [
            "✅ Resampled & saved: fuel_availability.npy\n"
          ]
        }
      ]
    },
    {
      "cell_type": "code",
      "source": [
        "import numpy as np\n",
        "\n",
        "# Load previous stack and new fuel layer\n",
        "features = np.load(\"feature_stack.npy\")             # shape: (H, W, 7)\n",
        "fuel = np.load(\"fuel_availability.npy\")             # shape: (H, W)\n",
        "\n",
        "# Add fuel as the 8th channel\n",
        "features = np.concatenate([features, fuel[..., None]], axis=-1)\n",
        "\n",
        "# Save updated feature stack\n",
        "np.save(\"feature_stack_with_fuel.npy\", features)\n",
        "print(\"✅ New feature stack shape:\", features.shape)"
      ],
      "metadata": {
        "colab": {
          "base_uri": "https://localhost:8080/"
        },
        "id": "inb9wlYf6Gcj",
        "outputId": "c54fe5fc-5540-49d7-c92f-92bdcf8f8b4c"
      },
      "execution_count": 21,
      "outputs": [
        {
          "output_type": "stream",
          "name": "stdout",
          "text": [
            "✅ New feature stack shape: (15, 17, 8)\n"
          ]
        }
      ]
    },
    {
      "cell_type": "code",
      "source": [
        "import numpy as np\n",
        "\n",
        "X = np.load(\"feature_stack_with_fuel.npy\")  # shape should be (H, W, 8)\n",
        "y = np.load(\"label_mask.npy\")               # shape should be (H, W)\n",
        "\n",
        "print(\"✅ X shape:\", X.shape)\n",
        "print(\"✅ y shape:\", y.shape)\n",
        "\n",
        "# Optional: Count fire pixels\n",
        "print(\"🔥 Fire pixels in y:\", np.sum(y))"
      ],
      "metadata": {
        "colab": {
          "base_uri": "https://localhost:8080/"
        },
        "id": "aoepFX9P-z3y",
        "outputId": "46bd0521-7109-4269-d670-33427b6eaacc"
      },
      "execution_count": 22,
      "outputs": [
        {
          "output_type": "stream",
          "name": "stdout",
          "text": [
            "✅ X shape: (15, 17, 8)\n",
            "✅ y shape: (15, 17)\n",
            "🔥 Fire pixels in y: 26\n"
          ]
        }
      ]
    },
    {
      "cell_type": "code",
      "source": [
        "!pip install segmentation-models-pytorch --quiet"
      ],
      "metadata": {
        "colab": {
          "base_uri": "https://localhost:8080/"
        },
        "id": "x9SHG7D69VKy",
        "outputId": "cc19bde7-37ca-4101-ce48-cc1291d2228f"
      },
      "execution_count": 23,
      "outputs": [
        {
          "output_type": "stream",
          "name": "stdout",
          "text": [
            "\u001b[2K   \u001b[90m━━━━━━━━━━━━━━━━━━━━━━━━━━━━━━━━━━━━━━━━\u001b[0m \u001b[32m154.8/154.8 kB\u001b[0m \u001b[31m5.4 MB/s\u001b[0m eta \u001b[36m0:00:00\u001b[0m\n",
            "\u001b[2K   \u001b[90m━━━━━━━━━━━━━━━━━━━━━━━━━━━━━━━━━━━━━━━━\u001b[0m \u001b[32m363.4/363.4 MB\u001b[0m \u001b[31m1.4 MB/s\u001b[0m eta \u001b[36m0:00:00\u001b[0m\n",
            "\u001b[2K   \u001b[90m━━━━━━━━━━━━━━━━━━━━━━━━━━━━━━━━━━━━━━━━\u001b[0m \u001b[32m13.8/13.8 MB\u001b[0m \u001b[31m98.0 MB/s\u001b[0m eta \u001b[36m0:00:00\u001b[0m\n",
            "\u001b[2K   \u001b[90m━━━━━━━━━━━━━━━━━━━━━━━━━━━━━━━━━━━━━━━━\u001b[0m \u001b[32m24.6/24.6 MB\u001b[0m \u001b[31m76.7 MB/s\u001b[0m eta \u001b[36m0:00:00\u001b[0m\n",
            "\u001b[2K   \u001b[90m━━━━━━━━━━━━━━━━━━━━━━━━━━━━━━━━━━━━━━━━\u001b[0m \u001b[32m883.7/883.7 kB\u001b[0m \u001b[31m44.2 MB/s\u001b[0m eta \u001b[36m0:00:00\u001b[0m\n",
            "\u001b[2K   \u001b[90m━━━━━━━━━━━━━━━━━━━━━━━━━━━━━━━━━━━━━━━\u001b[0m \u001b[32m664.8/664.8 MB\u001b[0m \u001b[31m780.4 kB/s\u001b[0m eta \u001b[36m0:00:00\u001b[0m\n",
            "\u001b[2K   \u001b[90m━━━━━━━━━━━━━━━━━━━━━━━━━━━━━━━━━━━━━━━━\u001b[0m \u001b[32m211.5/211.5 MB\u001b[0m \u001b[31m5.8 MB/s\u001b[0m eta \u001b[36m0:00:00\u001b[0m\n",
            "\u001b[2K   \u001b[90m━━━━━━━━━━━━━━━━━━━━━━━━━━━━━━━━━━━━━━━━\u001b[0m \u001b[32m56.3/56.3 MB\u001b[0m \u001b[31m12.3 MB/s\u001b[0m eta \u001b[36m0:00:00\u001b[0m\n",
            "\u001b[2K   \u001b[90m━━━━━━━━━━━━━━━━━━━━━━━━━━━━━━━━━━━━━━━━\u001b[0m \u001b[32m127.9/127.9 MB\u001b[0m \u001b[31m8.3 MB/s\u001b[0m eta \u001b[36m0:00:00\u001b[0m\n",
            "\u001b[2K   \u001b[90m━━━━━━━━━━━━━━━━━━━━━━━━━━━━━━━━━━━━━━━━\u001b[0m \u001b[32m207.5/207.5 MB\u001b[0m \u001b[31m7.1 MB/s\u001b[0m eta \u001b[36m0:00:00\u001b[0m\n",
            "\u001b[2K   \u001b[90m━━━━━━━━━━━━━━━━━━━━━━━━━━━━━━━━━━━━━━━━\u001b[0m \u001b[32m21.1/21.1 MB\u001b[0m \u001b[31m38.9 MB/s\u001b[0m eta \u001b[36m0:00:00\u001b[0m\n",
            "\u001b[?25h"
          ]
        }
      ]
    },
    {
      "cell_type": "code",
      "source": [
        "import numpy as np\n",
        "\n",
        "def pad_to_square(img, target_size=64):\n",
        "    h, w = img.shape[:2]\n",
        "    pad_h = target_size - h\n",
        "    pad_w = target_size - w\n",
        "    if img.ndim == 2:\n",
        "        pad = ((0, pad_h), (0, pad_w))\n",
        "    else:\n",
        "        pad = ((0, pad_h), (0, pad_w), (0, 0))\n",
        "    return np.pad(img, pad, mode='constant', constant_values=0)\n",
        "\n",
        "# Load and pad\n",
        "X = np.load(\"feature_stack_with_fuel.npy\")\n",
        "y = np.load(\"label_mask.npy\")\n",
        "\n",
        "X = pad_to_square(X, 64)  # shape: (64, 64, 8)\n",
        "y = pad_to_square(y, 64)  # shape: (64, 64)"
      ],
      "metadata": {
        "id": "cZqZjC08_iA-"
      },
      "execution_count": 24,
      "outputs": []
    },
    {
      "cell_type": "code",
      "source": [
        "import torch\n",
        "from torch.utils.data import Dataset, DataLoader\n",
        "\n",
        "class FullImageDataset(torch.utils.data.Dataset):\n",
        "    def __init__(self, X, y):\n",
        "        self.X = torch.tensor(X.transpose(2, 0, 1), dtype=torch.float32)\n",
        "        self.y = torch.tensor(y, dtype=torch.long)\n",
        "\n",
        "    def __len__(self):\n",
        "        return 1\n",
        "\n",
        "    def __getitem__(self, idx):\n",
        "        return self.X, self.y\n",
        "\n",
        "dataset = FullImageDataset(X, y)\n",
        "loader = DataLoader(dataset, batch_size=1)"
      ],
      "metadata": {
        "id": "X7lxH_TF_CAj"
      },
      "execution_count": 25,
      "outputs": []
    },
    {
      "cell_type": "code",
      "source": [
        "import segmentation_models_pytorch as smp\n",
        "\n",
        "model = smp.Unet(\n",
        "    encoder_name=\"resnet18\",\n",
        "    encoder_weights=None,\n",
        "    in_channels=8,\n",
        "    classes=2\n",
        ").to(\"cuda\" if torch.cuda.is_available() else \"cpu\")"
      ],
      "metadata": {
        "id": "sieNmyyk_Eqo"
      },
      "execution_count": 26,
      "outputs": []
    },
    {
      "cell_type": "code",
      "source": [
        "import segmentation_models_pytorch as smp\n",
        "\n",
        "model = smp.Unet(\n",
        "    encoder_name=\"resnet18\",\n",
        "    encoder_weights=None,\n",
        "    in_channels=8,\n",
        "    classes=2\n",
        ")\n",
        "\n",
        "device = torch.device(\"cuda\" if torch.cuda.is_available() else \"cpu\")\n",
        "model = model.to(device)"
      ],
      "metadata": {
        "id": "5QINOib-_HmB"
      },
      "execution_count": 27,
      "outputs": []
    },
    {
      "cell_type": "code",
      "source": [
        "import torch.nn as nn\n",
        "import torch.optim as optim\n",
        "\n",
        "criterion = nn.CrossEntropyLoss()\n",
        "optimizer = optim.Adam(model.parameters(), lr=1e-3)\n",
        "\n",
        "for epoch in range(10):\n",
        "    model.train()\n",
        "    for x_batch, y_batch in loader:\n",
        "        x_batch, y_batch = x_batch.to(device), y_batch.to(device)\n",
        "        optimizer.zero_grad()\n",
        "        output = model(x_batch)\n",
        "        loss = criterion(output, y_batch)\n",
        "        loss.backward()\n",
        "        optimizer.step()\n",
        "    print(f\"✅ Epoch {epoch+1}: Loss = {loss.item():.4f}\")"
      ],
      "metadata": {
        "colab": {
          "base_uri": "https://localhost:8080/"
        },
        "id": "V3K_FgGW_1tK",
        "outputId": "99d73c1d-9bb7-47fc-d110-f699759e23d0"
      },
      "execution_count": 28,
      "outputs": [
        {
          "output_type": "stream",
          "name": "stdout",
          "text": [
            "✅ Epoch 1: Loss = 0.7355\n",
            "✅ Epoch 2: Loss = 0.6417\n",
            "✅ Epoch 3: Loss = 0.5453\n",
            "✅ Epoch 4: Loss = 0.4576\n",
            "✅ Epoch 5: Loss = 0.3880\n",
            "✅ Epoch 6: Loss = 0.3367\n",
            "✅ Epoch 7: Loss = 0.2985\n",
            "✅ Epoch 8: Loss = 0.2661\n",
            "✅ Epoch 9: Loss = 0.2363\n",
            "✅ Epoch 10: Loss = 0.2101\n"
          ]
        }
      ]
    },
    {
      "cell_type": "code",
      "source": [
        "import matplotlib.pyplot as plt\n",
        "import torch.nn.functional as F\n",
        "\n",
        "model.eval()\n",
        "with torch.no_grad():\n",
        "    pred = model(x_batch.to(device))\n",
        "    pred_class = torch.argmax(F.softmax(pred, dim=1), dim=1).squeeze().cpu().numpy()\n",
        "\n",
        "# Plot ground truth vs prediction\n",
        "fig, axs = plt.subplots(1, 2, figsize=(10, 4))\n",
        "axs[0].imshow(y, cmap='Reds')\n",
        "axs[0].set_title(\"🔥 Ground Truth (label_mask)\")\n",
        "axs[1].imshow(pred_class, cmap='Reds')\n",
        "axs[1].set_title(\"🤖 Predicted Fire Map\")\n",
        "plt.tight_layout()\n",
        "plt.show()"
      ],
      "metadata": {
        "colab": {
          "base_uri": "https://localhost:8080/",
          "height": 496
        },
        "id": "A1PLiN7fAE8g",
        "outputId": "19d62d64-2563-43df-a2d6-a6eb52402201"
      },
      "execution_count": 29,
      "outputs": [
        {
          "output_type": "stream",
          "name": "stderr",
          "text": [
            "/usr/local/lib/python3.11/dist-packages/IPython/core/pylabtools.py:151: UserWarning: Glyph 128293 (\\N{FIRE}) missing from font(s) DejaVu Sans.\n",
            "  fig.canvas.print_figure(bytes_io, **kw)\n",
            "/usr/local/lib/python3.11/dist-packages/IPython/core/pylabtools.py:151: UserWarning: Glyph 129302 (\\N{ROBOT FACE}) missing from font(s) DejaVu Sans.\n",
            "  fig.canvas.print_figure(bytes_io, **kw)\n"
          ]
        },
        {
          "output_type": "display_data",
          "data": {
            "text/plain": [
              "<Figure size 1000x400 with 2 Axes>"
            ],
            "image/png": "[encoded data removed]"
          },
          "metadata": {}
        }
      ]
    },
    {
      "cell_type": "code",
      "source": [
        "from sklearn.metrics import confusion_matrix, accuracy_score, precision_score, recall_score, f1_score, jaccard_score\n",
        "\n",
        "# Flatten arrays\n",
        "y_true = y.flatten()\n",
        "y_pred = pred_class.flatten()\n",
        "\n",
        "print(\"✅ Fire pixels in ground truth:\", np.sum(y_true))\n",
        "print(\"🔥 Fire pixels in prediction  :\", np.sum(y_pred))\n",
        "\n",
        "# Metrics\n",
        "print(\"\\n📊 Evaluation Metrics:\")\n",
        "print(\"Accuracy :\", accuracy_score(y_true, y_pred))\n",
        "print(\"Precision:\", precision_score(y_true, y_pred, zero_division=0))\n",
        "print(\"Recall   :\", recall_score(y_true, y_pred, zero_division=0))\n",
        "print(\"F1 Score :\", f1_score(y_true, y_pred, zero_division=0))\n",
        "print(\"IoU      :\", jaccard_score(y_true, y_pred, zero_division=0))"
      ],
      "metadata": {
        "colab": {
          "base_uri": "https://localhost:8080/"
        },
        "id": "95BBeb4KBG1j",
        "outputId": "1d62fb3e-78b7-4298-d3bb-adb8cb2e77f8"
      },
      "execution_count": 30,
      "outputs": [
        {
          "output_type": "stream",
          "name": "stdout",
          "text": [
            "✅ Fire pixels in ground truth: 26\n",
            "🔥 Fire pixels in prediction  : 57\n",
            "\n",
            "📊 Evaluation Metrics:\n",
            "Accuracy : 0.981689453125\n",
            "Precision: 0.07017543859649122\n",
            "Recall   : 0.15384615384615385\n",
            "F1 Score : 0.0963855421686747\n",
            "IoU      : 0.05063291139240506\n"
          ]
        }
      ]
    },
    {
      "cell_type": "code",
      "source": [
        "# Save model weights\n",
        "torch.save(model.state_dict(), \"unet_fire_model.pth\")\n",
        "print(\"✅ Model saved as unet_fire_model.pth\")"
      ],
      "metadata": {
        "colab": {
          "base_uri": "https://localhost:8080/"
        },
        "id": "kl2k9mllBOvq",
        "outputId": "802bfaa7-b961-4e9a-97b3-8d7ed5282564"
      },
      "execution_count": 31,
      "outputs": [
        {
          "output_type": "stream",
          "name": "stdout",
          "text": [
            "✅ Model saved as unet_fire_model.pth\n"
          ]
        }
      ]
    },
    {
      "cell_type": "code",
      "source": [
        "from google.colab import files\n",
        "uploaded = files.upload()"
      ],
      "metadata": {
        "colab": {
          "base_uri": "https://localhost:8080/",
          "height": 110
        },
        "id": "SzR4akBlS0XL",
        "outputId": "2ab86d33-8c29-483a-e433-8fa20f42b91a"
      },
      "execution_count": 32,
      "outputs": [
        {
          "output_type": "display_data",
          "data": {
            "text/plain": [
              "<IPython.core.display.HTML object>"
            ],
            "text/html": [
              "\n",
              "     <input type=\"file\" id=\"files-f65c0198-93a6-40bd-b8b4-273e27b99a1a\" name=\"files[]\" multiple disabled\n",
              "        style=\"border:none\" />\n",
              "     <output id=\"result-f65c0198-93a6-40bd-b8b4-273e27b99a1a\">\n",
              "      Upload widget is only available when the cell has been executed in the\n",
              "      current browser session. Please rerun this cell to enable.\n",
              "      </output>\n",
              "      <script>// Copyright 2017 Google LLC\n",
              "//\n",
              "// Licensed under the Apache License, Version 2.0 (the \"License\");\n",
              "// you may not use this file except in compliance with the License.\n",
              "// You may obtain a copy of the License at\n",
              "//\n",
              "//      http://www.apache.org/licenses/LICENSE-2.0\n",
              "//\n",
              "// Unless required by applicable law or agreed to in writing, software\n",
              "// distributed under the License is distributed on an \"AS IS\" BASIS,\n",
              "// WITHOUT WARRANTIES OR CONDITIONS OF ANY KIND, either express or implied.\n",
              "// See the License for the specific language governing permissions and\n",
              "// limitations under the License.\n",
              "\n",
              "/**\n",
              " * @fileoverview Helpers for google.colab Python module.\n",
              " */\n",
              "(function(scope) {\n",
              "function span(text, styleAttributes = {}) {\n",
              "  const element = document.createElement('span');\n",
              "  element.textContent = text;\n",
              "  for (const key of Object.keys(styleAttributes)) {\n",
              "    element.style[key] = styleAttributes[key];\n",
              "  }\n",
              "  return element;\n",
              "}\n",
              "\n",
              "// Max number of bytes which will be uploaded at a time.\n",
              "const MAX_PAYLOAD_SIZE = 100 * 1024;\n",
              "\n",
              "function _uploadFiles(inputId, outputId) {\n",
              "  const steps = uploadFilesStep(inputId, outputId);\n",
              "  const outputElement = document.getElementById(outputId);\n",
              "  // Cache steps on the outputElement to make it available for the next call\n",
              "  // to uploadFilesContinue from Python.\n",
              "  outputElement.steps = steps;\n",
              "\n",
              "  return _uploadFilesContinue(outputId);\n",
              "}\n",
              "\n",
              "// This is roughly an async generator (not supported in the browser yet),\n",
              "// where there are multiple asynchronous steps and the Python side is going\n",
              "// to poll for completion of each step.\n",
              "// This uses a Promise to block the python side on completion of each step,\n",
              "// then passes the result of the previous step as the input to the next step.\n",
              "function _uploadFilesContinue(outputId) {\n",
              "  const outputElement = document.getElementById(outputId);\n",
              "  const steps = outputElement.steps;\n",
              "\n",
              "  const next = steps.next(outputElement.lastPromiseValue);\n",
              "  return Promise.resolve(next.value.promise).then((value) => {\n",
              "    // Cache the last promise value to make it available to the next\n",
              "    // step of the generator.\n",
              "    outputElement.lastPromiseValue = value;\n",
              "    return next.value.response;\n",
              "  });\n",
              "}\n",
              "\n",
              "/**\n",
              " * Generator function which is called between each async step of the upload\n",
              " * process.\n",
              " * @param {string} inputId Element ID of the input file picker element.\n",
              " * @param {string} outputId Element ID of the output display.\n",
              " * @return {!Iterable<!Object>} Iterable of next steps.\n",
              " */\n",
              "function* uploadFilesStep(inputId, outputId) {\n",
              "  const inputElement = document.getElementById(inputId);\n",
              "  inputElement.disabled = false;\n",
              "\n",
              "  const outputElement = document.getElementById(outputId);\n",
              "  outputElement.innerHTML = '';\n",
              "\n",
              "  const pickedPromise = new Promise((resolve) => {\n",
              "    inputElement.addEventListener('change', (e) => {\n",
              "      resolve(e.target.files);\n",
              "    });\n",
              "  });\n",
              "\n",
              "  const cancel = document.createElement('button');\n",
              "  inputElement.parentElement.appendChild(cancel);\n",
              "  cancel.textContent = 'Cancel upload';\n",
              "  const cancelPromise = new Promise((resolve) => {\n",
              "    cancel.onclick = () => {\n",
              "      resolve(null);\n",
              "    };\n",
              "  });\n",
              "\n",
              "  // Wait for the user to pick the files.\n",
              "  const files = yield {\n",
              "    promise: Promise.race([pickedPromise, cancelPromise]),\n",
              "    response: {\n",
              "      action: 'starting',\n",
              "    }\n",
              "  };\n",
              "\n",
              "  cancel.remove();\n",
              "\n",
              "  // Disable the input element since further picks are not allowed.\n",
              "  inputElement.disabled = true;\n",
              "\n",
              "  if (!files) {\n",
              "    return {\n",
              "      response: {\n",
              "        action: 'complete',\n",
              "      }\n",
              "    };\n",
              "  }\n",
              "\n",
              "  for (const file of files) {\n",
              "    const li = document.createElement('li');\n",
              "    li.append(span(file.name, {fontWeight: 'bold'}));\n",
              "    li.append(span(\n",
              "        `(${file.type || 'n/a'}) - ${file.size} bytes, ` +\n",
              "        `last modified: ${\n",
              "            file.lastModifiedDate ? file.lastModifiedDate.toLocaleDateString() :\n",
              "                                    'n/a'} - `));\n",
              "    const percent = span('0% done');\n",
              "    li.appendChild(percent);\n",
              "\n",
              "    outputElement.appendChild(li);\n",
              "\n",
              "    const fileDataPromise = new Promise((resolve) => {\n",
              "      const reader = new FileReader();\n",
              "      reader.onload = (e) => {\n",
              "        resolve(e.target.result);\n",
              "      };\n",
              "      reader.readAsArrayBuffer(file);\n",
              "    });\n",
              "    // Wait for the data to be ready.\n",
              "    let fileData = yield {\n",
              "      promise: fileDataPromise,\n",
              "      response: {\n",
              "        action: 'continue',\n",
              "      }\n",
              "    };\n",
              "\n",
              "    // Use a chunked sending to avoid message size limits. See b/62115660.\n",
              "    let position = 0;\n",
              "    do {\n",
              "      const length = Math.min(fileData.byteLength - position, MAX_PAYLOAD_SIZE);\n",
              "      const chunk = new Uint8Array(fileData, position, length);\n",
              "      position += length;\n",
              "\n",
              "      const base64 = btoa(String.fromCharCode.apply(null, chunk));\n",
              "      yield {\n",
              "        response: {\n",
              "          action: 'append',\n",
              "          file: file.name,\n",
              "          data: base64,\n",
              "        },\n",
              "      };\n",
              "\n",
              "      let percentDone = fileData.byteLength === 0 ?\n",
              "          100 :\n",
              "          Math.round((position / fileData.byteLength) * 100);\n",
              "      percent.textContent = `${percentDone}% done`;\n",
              "\n",
              "    } while (position < fileData.byteLength);\n",
              "  }\n",
              "\n",
              "  // All done.\n",
              "  yield {\n",
              "    response: {\n",
              "      action: 'complete',\n",
              "    }\n",
              "  };\n",
              "}\n",
              "\n",
              "scope.google = scope.google || {};\n",
              "scope.google.colab = scope.google.colab || {};\n",
              "scope.google.colab._files = {\n",
              "  _uploadFiles,\n",
              "  _uploadFilesContinue,\n",
              "};\n",
              "})(self);\n",
              "</script> "
            ]
          },
          "metadata": {}
        },
        {
          "output_type": "stream",
          "name": "stdout",
          "text": [
            "Saving GHS_BUILT_S_E2015_GLOBE_R2023A_54009_100_V1_0_R6_C26.tif to GHS_BUILT_S_E2015_GLOBE_R2023A_54009_100_V1_0_R6_C26 (1).tif\n"
          ]
        }
      ]
    },
    {
      "cell_type": "code",
      "source": [
        "import rasterio\n",
        "from rasterio.enums import Resampling\n",
        "import numpy as np\n",
        "\n",
        "ghsl_path = list(uploaded.keys())[0]  # your uploaded file\n",
        "ref_path = \"geotiffs/temperature.tif\"  # or any raster already aligned\n",
        "\n",
        "with rasterio.open(ghsl_path) as src, rasterio.open(ref_path) as ref:\n",
        "    ghsl_resampled = src.read(\n",
        "        1,\n",
        "        out_shape=(ref.height, ref.width),\n",
        "        resampling=Resampling.bilinear\n",
        "    )\n",
        "\n",
        "# Normalize built-up values to [0, 1]\n",
        "ghsl_normalized = (ghsl_resampled - ghsl_resampled.min()) / (ghsl_resampled.max() - ghsl_resampled.min())\n",
        "ghsl_normalized = np.nan_to_num(ghsl_normalized)\n",
        "\n",
        "np.save(\"human_settlement_pressure.npy\", ghsl_normalized)\n",
        "print(\"✅ GHSL resampled, normalized, and saved.\")"
      ],
      "metadata": {
        "colab": {
          "base_uri": "https://localhost:8080/"
        },
        "id": "7P8sf3EWS5HB",
        "outputId": "afc8f1bc-862f-4332-bd3d-1d35e1f723d2"
      },
      "execution_count": 33,
      "outputs": [
        {
          "output_type": "stream",
          "name": "stdout",
          "text": [
            "✅ GHSL resampled, normalized, and saved.\n"
          ]
        }
      ]
    },
    {
      "cell_type": "code",
      "source": [
        "X = np.load(\"feature_stack_with_fuel.npy\")                  # (15, 17, 8)\n",
        "ghsl = np.load(\"human_settlement_pressure.npy\")             # (15, 17)\n",
        "\n",
        "# Stack GHSL as 9th channel\n",
        "X_with_ghsl = np.concatenate([X, ghsl[..., None]], axis=-1)  # (15, 17, 9)\n",
        "np.save(\"feature_stack_with_ghsl.npy\", X_with_ghsl)\n",
        "print(\"✅ New feature stack shape:\", X_with_ghsl.shape)"
      ],
      "metadata": {
        "colab": {
          "base_uri": "https://localhost:8080/"
        },
        "id": "VO_O3dNAwNrS",
        "outputId": "fe00b67c-62b3-489b-92cf-cb3fc64b9a8b"
      },
      "execution_count": 34,
      "outputs": [
        {
          "output_type": "stream",
          "name": "stdout",
          "text": [
            "✅ New feature stack shape: (15, 17, 9)\n"
          ]
        }
      ]
    },
    {
      "cell_type": "code",
      "source": [
        "model = smp.Unet(\n",
        "    encoder_name=\"resnet18\",\n",
        "    encoder_weights=None,\n",
        "    in_channels=9,   # Now includes GHSL\n",
        "    classes=2\n",
        ").to(device)"
      ],
      "metadata": {
        "id": "OG-KOiBdwP6Q"
      },
      "execution_count": 36,
      "outputs": []
    },
    {
      "cell_type": "code",
      "source": [
        "import numpy as np\n",
        "\n",
        "X = np.load(\"feature_stack_with_ghsl.npy\")   # (15, 17, 9)\n",
        "y = np.load(\"label_mask.npy\")                # (15, 17)\n",
        "\n",
        "# Normalize\n",
        "X = (X - X.mean()) / (X.std() + 1e-6)\n",
        "X = np.nan_to_num(X)"
      ],
      "metadata": {
        "id": "1Mvk4LuOxnMr"
      },
      "execution_count": 37,
      "outputs": []
    },
    {
      "cell_type": "code",
      "source": [
        "def pad_to_square(img, target_size=64):\n",
        "    h, w = img.shape[:2]\n",
        "    pad_h = target_size - h\n",
        "    pad_w = target_size - w\n",
        "    if img.ndim == 2:\n",
        "        pad = ((0, pad_h), (0, pad_w))\n",
        "    else:\n",
        "        pad = ((0, pad_h), (0, pad_w), (0, 0))\n",
        "    return np.pad(img, pad, mode='constant', constant_values=0)\n",
        "\n",
        "X = pad_to_square(X, 64)  # (64, 64, 9)\n",
        "y = pad_to_square(y, 64)  # (64, 64)"
      ],
      "metadata": {
        "id": "Ygp2jAwZxsAg"
      },
      "execution_count": 38,
      "outputs": []
    },
    {
      "cell_type": "code",
      "source": [
        "import torch\n",
        "from torch.utils.data import Dataset, DataLoader\n",
        "\n",
        "class FullImageDataset(Dataset):\n",
        "    def __init__(self, X, y):\n",
        "        self.X = torch.tensor(X.transpose(2, 0, 1), dtype=torch.float32)\n",
        "        self.y = torch.tensor(y, dtype=torch.long)\n",
        "\n",
        "    def __len__(self):\n",
        "        return 1\n",
        "\n",
        "    def __getitem__(self, idx):\n",
        "        return self.X, self.y\n",
        "\n",
        "dataset = FullImageDataset(X, y)\n",
        "loader = DataLoader(dataset, batch_size=1)"
      ],
      "metadata": {
        "id": "hLqJwmA7xwgE"
      },
      "execution_count": 39,
      "outputs": []
    },
    {
      "cell_type": "code",
      "source": [
        "import torch.nn as nn\n",
        "import torch.optim as optim\n",
        "\n",
        "criterion = nn.CrossEntropyLoss()\n",
        "optimizer = optim.Adam(model.parameters(), lr=1e-3)\n",
        "\n",
        "for epoch in range(10):\n",
        "    model.train()\n",
        "    for x_batch, y_batch in loader:\n",
        "        x_batch, y_batch = x_batch.to(device), y_batch.to(device)\n",
        "        optimizer.zero_grad()\n",
        "        output = model(x_batch)\n",
        "        loss = criterion(output, y_batch)\n",
        "        loss.backward()\n",
        "        optimizer.step()\n",
        "    print(f\"✅ Epoch {epoch+1}: Loss = {loss.item():.4f}\")"
      ],
      "metadata": {
        "colab": {
          "base_uri": "https://localhost:8080/"
        },
        "id": "j89SS4roxyD7",
        "outputId": "7f6356ce-1e8b-4b5d-b828-9a8b9f1e388e"
      },
      "execution_count": 40,
      "outputs": [
        {
          "output_type": "stream",
          "name": "stdout",
          "text": [
            "✅ Epoch 1: Loss = 0.5491\n",
            "✅ Epoch 2: Loss = 0.4483\n",
            "✅ Epoch 3: Loss = 0.3488\n",
            "✅ Epoch 4: Loss = 0.2774\n",
            "✅ Epoch 5: Loss = 0.2292\n",
            "✅ Epoch 6: Loss = 0.1985\n",
            "✅ Epoch 7: Loss = 0.1737\n",
            "✅ Epoch 8: Loss = 0.1536\n",
            "✅ Epoch 9: Loss = 0.1370\n",
            "✅ Epoch 10: Loss = 0.1231\n"
          ]
        }
      ]
    },
    {
      "cell_type": "code",
      "source": [
        "import torch.nn.functional as F\n",
        "import matplotlib.pyplot as plt\n",
        "\n",
        "model.eval()\n",
        "with torch.no_grad():\n",
        "    pred = model(x_batch.to(device))\n",
        "    pred_class = torch.argmax(F.softmax(pred, dim=1), dim=1).squeeze().cpu().numpy()\n",
        "\n",
        "# Plot GT vs prediction\n",
        "fig, axs = plt.subplots(1, 2, figsize=(10, 4))\n",
        "axs[0].imshow(y, cmap='Reds')\n",
        "axs[0].set_title(\"🔥 Ground Truth (label_mask)\")\n",
        "axs[1].imshow(pred_class, cmap='Reds')\n",
        "axs[1].set_title(\"🤖 Predicted Fire Map (GHSL)\")\n",
        "plt.tight_layout()\n",
        "plt.show()"
      ],
      "metadata": {
        "colab": {
          "base_uri": "https://localhost:8080/",
          "height": 427
        },
        "id": "i7vg0upDyAjt",
        "outputId": "6212c1e7-7871-4ec8-d76b-8c092003f98f"
      },
      "execution_count": 41,
      "outputs": [
        {
          "output_type": "display_data",
          "data": {
            "text/plain": [
              "<Figure size 1000x400 with 2 Axes>"
            ],
            "image/png": "[encoded data removed]"
          },
          "metadata": {}
        }
      ]
    },
    {
      "cell_type": "code",
      "source": [
        "from sklearn.metrics import accuracy_score, precision_score, recall_score, f1_score, jaccard_score\n",
        "\n",
        "y_true = y.flatten()\n",
        "y_pred = pred_class.flatten()\n",
        "\n",
        "print(\"\\n📊 GHSL-Enhanced Metrics:\")\n",
        "print(\"✅ Fire pixels in GT     :\", np.sum(y_true))\n",
        "print(\"🔥 Fire pixels predicted :\", np.sum(y_pred))\n",
        "print(\"Accuracy :\", accuracy_score(y_true, y_pred))\n",
        "print(\"Precision:\", precision_score(y_true, y_pred, zero_division=0))\n",
        "print(\"Recall   :\", recall_score(y_true, y_pred, zero_division=0))\n",
        "print(\"F1 Score :\", f1_score(y_true, y_pred, zero_division=0))\n",
        "print(\"IoU      :\", jaccard_score(y_true, y_pred, zero_division=0))"
      ],
      "metadata": {
        "colab": {
          "base_uri": "https://localhost:8080/"
        },
        "id": "L5_2Z-KayG4M",
        "outputId": "688500d5-a1cd-46ad-ec54-442cf7c40342"
      },
      "execution_count": 42,
      "outputs": [
        {
          "output_type": "stream",
          "name": "stdout",
          "text": [
            "\n",
            "📊 GHSL-Enhanced Metrics:\n",
            "✅ Fire pixels in GT     : 26\n",
            "🔥 Fire pixels predicted : 16\n",
            "Accuracy : 0.99365234375\n",
            "Precision: 0.5\n",
            "Recall   : 0.3076923076923077\n",
            "F1 Score : 0.38095238095238093\n",
            "IoU      : 0.23529411764705882\n"
          ]
        }
      ]
    },
    {
      "cell_type": "code",
      "source": [
        "torch.save(model.state_dict(), \"unet_fire_model_with_ghsl.pth\")"
      ],
      "metadata": {
        "id": "GeODPoobyZQQ"
      },
      "execution_count": 43,
      "outputs": []
    },
    {
      "cell_type": "code",
      "source": [
        "import rasterio\n",
        "\n",
        "with rasterio.open(\"geotiffs/temperature.tif\") as ref:\n",
        "    profile = ref.profile\n",
        "    profile.update(dtype='uint8', count=1, nodata=0)  # ✅ Fix here\n",
        "\n",
        "    with rasterio.open(\"predicted_fire_map_GHSL.tif\", 'w', **profile) as dst:\n",
        "        dst.write(pred_class.astype('uint8'), 1)\n",
        "\n",
        "print(\"✅ Saved: predicted_fire_map_GHSL.tif\")"
      ],
      "metadata": {
        "colab": {
          "base_uri": "https://localhost:8080/"
        },
        "id": "m76hScmGycWO",
        "outputId": "278f7731-b5c7-4351-c389-5d41e371c281"
      },
      "execution_count": 45,
      "outputs": [
        {
          "output_type": "stream",
          "name": "stdout",
          "text": [
            "✅ Saved: predicted_fire_map_GHSL.tif\n"
          ]
        }
      ]
    },
    {
      "cell_type": "code",
      "source": [
        "import rasterio\n",
        "from rasterio.enums import Resampling\n",
        "import numpy as np\n",
        "\n",
        "def resample_to_match(input_tif, reference_tif):\n",
        "    with rasterio.open(input_tif) as src, rasterio.open(reference_tif) as ref:\n",
        "        data = src.read(\n",
        "            1,\n",
        "            out_shape=(ref.height, ref.width),\n",
        "            resampling=Resampling.bilinear\n",
        "        )\n",
        "        print(f\"✅ Resampled: {input_tif} → shape {data.shape}\")\n",
        "        return data\n",
        "\n",
        "# Resample wind to match temperature.tif shape\n",
        "u_res = resample_to_match(\"geotiffs/u_wind.tif\", \"geotiffs/temperature.tif\")\n",
        "v_res = resample_to_match(\"geotiffs/v_wind.tif\", \"geotiffs/temperature.tif\")"
      ],
      "metadata": {
        "colab": {
          "base_uri": "https://localhost:8080/"
        },
        "id": "R3gL8qnf6Woe",
        "outputId": "d01b2a0d-f71d-441e-f566-8444d56b0709"
      },
      "execution_count": 68,
      "outputs": [
        {
          "output_type": "stream",
          "name": "stdout",
          "text": [
            "✅ Resampled: geotiffs/u_wind.tif → shape (15, 17)\n",
            "✅ Resampled: geotiffs/v_wind.tif → shape (15, 17)\n"
          ]
        }
      ]
    },
    {
      "cell_type": "code",
      "source": [
        "def pad_to_square(img, target_size=64):\n",
        "    h, w = img.shape[:2]\n",
        "    pad_h = max(0, target_size - h)\n",
        "    pad_w = max(0, target_size - w)\n",
        "    padded = np.pad(img, ((0, pad_h), (0, pad_w)), mode='constant', constant_values=0)\n",
        "    print(f\"📦 Padded to: {padded.shape}\")\n",
        "    return padded\n",
        "\n",
        "# Load slope & fuel\n",
        "slope = resample_to_match(\"geotiffs/slope.tif\", \"geotiffs/temperature.tif\")\n",
        "fuel = np.load(\"fuel_availability.npy\")\n",
        "\n",
        "# Pad everything to 64x64\n",
        "slope_padded = pad_to_square(slope, 64)\n",
        "fuel_padded = pad_to_square(fuel, 64)\n",
        "u_padded = pad_to_square(u_res, 64)\n",
        "v_padded = pad_to_square(v_res, 64)\n",
        "fire_padded = pad_to_square(pred_class, 64)  # from your U-Net prediction"
      ],
      "metadata": {
        "colab": {
          "base_uri": "https://localhost:8080/"
        },
        "id": "d92OQ-YQ6bFM",
        "outputId": "8bb1eb04-83dd-4301-d73d-7dad4b0b285b"
      },
      "execution_count": 70,
      "outputs": [
        {
          "output_type": "stream",
          "name": "stdout",
          "text": [
            "✅ Resampled: geotiffs/slope.tif → shape (15, 17)\n",
            "📦 Padded to: (64, 64)\n",
            "📦 Padded to: (64, 64)\n",
            "📦 Padded to: (64, 64)\n",
            "📦 Padded to: (64, 64)\n",
            "📦 Padded to: (64, 64)\n"
          ]
        }
      ]
    },
    {
      "cell_type": "code",
      "source": [
        "from scipy.ndimage import convolve\n",
        "\n",
        "def simulate_fire_spread(fire, fuel, slope, u_wind, v_wind, steps=12):\n",
        "    fire_maps = [fire.copy()]\n",
        "    slope = (slope - np.min(slope)) / (np.max(slope) - np.min(slope) + 1e-6)\n",
        "    kernel = np.array([[0.8, 1, 0.8],\n",
        "                      [1,   0, 1],\n",
        "                      [0.8, 1, 0.8]])\n",
        "\n",
        "    for _ in range(steps):\n",
        "        spread_potential = convolve(fire, kernel, mode='constant')\n",
        "        wind_effect = np.clip(np.sqrt(u_wind**2 + v_wind**2) / 5.0, 0, 1)\n",
        "        new_fire = (\n",
        "            (spread_potential > 0) &\n",
        "            (fuel > 0.1) &\n",
        "            ((0.5 * slope + 0.5 * wind_effect) > 0.2) &\n",
        "            (fire == 0)\n",
        "        )\n",
        "        fire = np.where(new_fire, 1, fire)\n",
        "        fire_maps.append(fire.copy())\n",
        "    return fire_maps"
      ],
      "metadata": {
        "id": "DUPSPicY1wlO"
      },
      "execution_count": 82,
      "outputs": []
    },
    {
      "cell_type": "code",
      "source": [
        "fire_sequence = simulate_fire_spread(\n",
        "    fire=fire_padded,\n",
        "    fuel=fuel_padded,\n",
        "    slope=slope_padded,\n",
        "    u_wind=u_padded,\n",
        "    v_wind=v_padded,\n",
        "    steps=12\n",
        ")"
      ],
      "metadata": {
        "id": "yRDZr4Qb7f-A"
      },
      "execution_count": 83,
      "outputs": []
    },
    {
      "cell_type": "code",
      "source": [
        "import matplotlib.pyplot as plt\n",
        "\n",
        "hours = [1, 2, 3, 6, 12]\n",
        "fig, axs = plt.subplots(1, len(hours), figsize=(18, 4))\n",
        "for i, h in enumerate(hours):\n",
        "    axs[i].imshow(fire_sequence[h], cmap='hot')\n",
        "    axs[i].set_title(f\"{h} hour(s)\")\n",
        "    axs[i].axis('off')\n",
        "plt.tight_layout()\n",
        "plt.show()"
      ],
      "metadata": {
        "colab": {
          "base_uri": "https://localhost:8080/",
          "height": 155
        },
        "id": "-Mi_pRc79iFk",
        "outputId": "7a6fcd22-4fec-40f9-cedb-a2baff0c73ab"
      },
      "execution_count": 84,
      "outputs": [
        {
          "output_type": "display_data",
          "data": {
            "text/plain": [
              "<Figure size 1800x400 with 5 Axes>"
            ],
            "image/png": "[encoded data removed]"
          },
          "metadata": {}
        }
      ]
    },
    {
      "cell_type": "code",
      "source": [
        "import matplotlib.pyplot as plt\n",
        "import matplotlib.animation as animation\n",
        "\n",
        "fig, ax = plt.subplots(figsize=(6, 6))\n",
        "\n",
        "def update(frame):\n",
        "    ax.clear()\n",
        "    ax.imshow(fire_sequence[frame], cmap='hot')\n",
        "    ax.set_title(f\"🔥 Fire Spread at Hour {frame}\")\n",
        "    ax.axis('off')\n",
        "\n",
        "ani = animation.FuncAnimation(fig, update, frames=range(len(fire_sequence)), interval=800)\n",
        "ani.save(\"fire_spread_simulation.gif\", writer='pillow')\n",
        "print(\"✅ Saved: fire_spread_simulation.gif with\", len(fire_sequence), \"frames\")"
      ],
      "metadata": {
        "colab": {
          "base_uri": "https://localhost:8080/",
          "height": 538
        },
        "id": "XfOBfL-6_g04",
        "outputId": "79601b0e-f644-455a-ede5-dd2b325440f3"
      },
      "execution_count": 86,
      "outputs": [
        {
          "output_type": "stream",
          "name": "stdout",
          "text": [
            "✅ Saved: fire_spread_simulation.gif with 13 frames\n"
          ]
        },
        {
          "output_type": "display_data",
          "data": {
            "text/plain": [
              "<Figure size 600x600 with 1 Axes>"
            ],
            "image/png": "[encoded data removed]"
          },
          "metadata": {}
        }
      ]
    },
    {
      "cell_type": "code",
      "source": [
        "from IPython.display import Image\n",
        "Image(filename=\"fire_spread_simulation.gif\")"
      ],
      "metadata": {
        "colab": {
          "base_uri": "https://localhost:8080/",
          "height": 617
        },
        "id": "tpJ8zD6FAQhP",
        "outputId": "76837fe1-e1c2-41ed-8927-cb23036a7a09"
      },
      "execution_count": 87,
      "outputs": [
        {
          "output_type": "execute_result",
          "data": {
            "image/gif": "[encoded data removed]",
            "text/plain": [
              "<IPython.core.display.Image object>"
            ]
          },
          "metadata": {},
          "execution_count": 87
        }
      ]
    },
    {
      "cell_type": "code",
      "source": [
        "import matplotlib.pyplot as plt\n",
        "\n",
        "# Display hours 1 to 6\n",
        "hours = [1, 2, 3, 4, 5, 6]\n",
        "titles = [f\"Hour-{h:02d}\" for h in hours]\n",
        "\n",
        "fig, axs = plt.subplots(2, 3, figsize=(14, 8))\n",
        "fig.suptitle(\"🔥 Forest Fire Spread Simulation (From Next-Day Risk)\", fontsize=16)\n",
        "\n",
        "for ax, hour, title in zip(axs.ravel(), hours, titles):\n",
        "    ax.imshow(fire_sequence[hour], cmap='hot')\n",
        "    ax.set_title(title)\n",
        "    ax.axis('off')\n",
        "\n",
        "plt.tight_layout(rect=[0, 0.03, 1, 0.95])\n",
        "plt.savefig(\"fire_spread_summary_layout.png\", dpi=300)\n",
        "plt.show()"
      ],
      "metadata": {
        "colab": {
          "base_uri": "https://localhost:8080/",
          "height": 802
        },
        "id": "rrF_4lG6FyaB",
        "outputId": "791dd182-0ca7-41da-a7fd-e27a59da7d62"
      },
      "execution_count": 88,
      "outputs": [
        {
          "output_type": "display_data",
          "data": {
            "text/plain": [
              "<Figure size 1400x800 with 6 Axes>"
            ],
            "image/png": "[encoded data removed]"
          },
          "metadata": {}
        }
      ]
    },
    {
      "cell_type": "code",
      "source": [
        "ghsl_padded = pad_to_square(ghsl, 64)"
      ],
      "metadata": {
        "colab": {
          "base_uri": "https://localhost:8080/"
        },
        "id": "_yo2ZUMaIpA4",
        "outputId": "1195d858-8c4d-4417-9105-a3f80796a533"
      },
      "execution_count": 90,
      "outputs": [
        {
          "output_type": "stream",
          "name": "stdout",
          "text": [
            "📦 Padded to: (64, 64)\n"
          ]
        }
      ]
    },
    {
      "cell_type": "code",
      "source": [
        "import matplotlib.pyplot as plt\n",
        "import matplotlib.patches as patches\n",
        "import numpy as np\n",
        "\n",
        "# ✅ Replace with your actual data\n",
        "background = np.clip(ghsl_padded + fuel_padded, 0, 1)  # GHSL + LULC-like base\n",
        "\n",
        "# 🔴 Define hotspot coordinates to annotate (row, col format)\n",
        "hotspots = [(10, 12), (13, 9), (8, 5)]  # Add more if needed\n",
        "\n",
        "# 🔥 Fire spread layout\n",
        "fig, axs = plt.subplots(2, 3, figsize=(14, 8))\n",
        "fig.suptitle(\"🔥 Forest Fire Spread with GHSL + Fuel Context\", fontsize=16)\n",
        "\n",
        "for i, (ax, hour) in enumerate(zip(axs.ravel(), range(1, 7))):\n",
        "    ax.imshow(background, cmap='YlGn', alpha=0.7)  # Base layer\n",
        "    fire_mask = np.ma.masked_where(fire_sequence[hour] == 0, fire_sequence[hour])\n",
        "    ax.imshow(fire_mask, cmap='Reds', alpha=1.0)\n",
        "    ax.set_title(f\"Hour-{hour:02d}\")\n",
        "    ax.axis('off')\n",
        "\n",
        "    # ➕ Annotate key hotspots\n",
        "    for (y, x) in hotspots:\n",
        "        circle = patches.Circle((x, y), radius=2, linewidth=1.5, edgecolor='black', facecolor='none')\n",
        "        ax.add_patch(circle)\n",
        "\n",
        "plt.tight_layout(rect=[0, 0.03, 1, 0.95])\n",
        "plt.savefig(\"fire_spread_with_layers.png\", dpi=300)\n",
        "plt.show()"
      ],
      "metadata": {
        "colab": {
          "base_uri": "https://localhost:8080/",
          "height": 421
        },
        "id": "3x7GENvwGO-t",
        "outputId": "46f14f14-25f5-4796-c197-c98409b1f56f"
      },
      "execution_count": 93,
      "outputs": [
        {
          "output_type": "display_data",
          "data": {
            "text/plain": [
              "<Figure size 1400x800 with 6 Axes>"
            ],
            "image/png": "[encoded data removed]"
          },
          "metadata": {}
        }
      ]
    },
    {
      "cell_type": "code",
      "source": [
        "from scipy.signal import convolve2d\n",
        "import numpy as np\n",
        "\n",
        "def simulate_fire_spread_debug(fire, fuel, slope, u_wind, v_wind, steps=12):\n",
        "    print(\"🧪 Fire Spread Debug Mode ON\")\n",
        "    fire = fire.copy()\n",
        "    fire_sequence = [fire.copy()]\n",
        "\n",
        "    kernel = np.array([[1, 1, 1],\n",
        "                       [1, 0, 1],\n",
        "                       [1, 1, 1]])\n",
        "\n",
        "    for step in range(steps):\n",
        "        print(f\"\\n--- Step {step + 1} ---\")\n",
        "\n",
        "        spread_potential = convolve2d(fire, kernel, mode='same', boundary='fill', fillvalue=0)\n",
        "        wind_effect = 0.5 * u_wind + 0.5 * v_wind\n",
        "        terrain_boost = 0.5 * slope + 0.5 * wind_effect\n",
        "\n",
        "        new_fire = (\n",
        "            (spread_potential > 0) &\n",
        "            (fuel > 0.1) &\n",
        "            (terrain_boost > 0.3) &  # 🔧 adjust this if too strict\n",
        "            (fire == 0)\n",
        "        )\n",
        "\n",
        "        print(\"🔥 Currently burning:\", fire.sum())\n",
        "        print(\"🌾 Fuel > 0.0       :\", (fuel > 0.0).sum())\n",
        "        print(\"🌬️ Wind effect > 0.3:\", (terrain_boost > 0.3).sum())\n",
        "        print(\"🆕 New fire pixels  :\", new_fire.sum())\n",
        "\n",
        "        fire = fire | new_fire\n",
        "        fire_sequence.append(fire.copy())\n",
        "\n",
        "    return fire_sequence"
      ],
      "metadata": {
        "id": "poLyBQXuMUQy"
      },
      "execution_count": 97,
      "outputs": []
    },
    {
      "cell_type": "code",
      "source": [
        "fire_sequence_debug = simulate_fire_spread_debug(\n",
        "    fire=fire_padded,\n",
        "    fuel=fuel_padded,\n",
        "    slope=slope_padded,\n",
        "    u_wind=u_padded,\n",
        "    v_wind=v_padded,\n",
        "    steps=12\n",
        ")"
      ],
      "metadata": {
        "colab": {
          "base_uri": "https://localhost:8080/"
        },
        "id": "FQdMtCshMa8t",
        "outputId": "b9b25536-145f-4b5d-eacf-7331d673745d"
      },
      "execution_count": 98,
      "outputs": [
        {
          "output_type": "stream",
          "name": "stdout",
          "text": [
            "🧪 Fire Spread Debug Mode ON\n",
            "\n",
            "--- Step 1 ---\n",
            "🔥 Currently burning: 16\n",
            "🌾 Fuel > 0.0       : 0\n",
            "🌬️ Wind effect > 0.3: 205\n",
            "🆕 New fire pixels  : 0\n",
            "\n",
            "--- Step 2 ---\n",
            "🔥 Currently burning: 16\n",
            "🌾 Fuel > 0.0       : 0\n",
            "🌬️ Wind effect > 0.3: 205\n",
            "🆕 New fire pixels  : 0\n",
            "\n",
            "--- Step 3 ---\n",
            "🔥 Currently burning: 16\n",
            "🌾 Fuel > 0.0       : 0\n",
            "🌬️ Wind effect > 0.3: 205\n",
            "🆕 New fire pixels  : 0\n",
            "\n",
            "--- Step 4 ---\n",
            "🔥 Currently burning: 16\n",
            "🌾 Fuel > 0.0       : 0\n",
            "🌬️ Wind effect > 0.3: 205\n",
            "🆕 New fire pixels  : 0\n",
            "\n",
            "--- Step 5 ---\n",
            "🔥 Currently burning: 16\n",
            "🌾 Fuel > 0.0       : 0\n",
            "🌬️ Wind effect > 0.3: 205\n",
            "🆕 New fire pixels  : 0\n",
            "\n",
            "--- Step 6 ---\n",
            "🔥 Currently burning: 16\n",
            "🌾 Fuel > 0.0       : 0\n",
            "🌬️ Wind effect > 0.3: 205\n",
            "🆕 New fire pixels  : 0\n",
            "\n",
            "--- Step 7 ---\n",
            "🔥 Currently burning: 16\n",
            "🌾 Fuel > 0.0       : 0\n",
            "🌬️ Wind effect > 0.3: 205\n",
            "🆕 New fire pixels  : 0\n",
            "\n",
            "--- Step 8 ---\n",
            "🔥 Currently burning: 16\n",
            "🌾 Fuel > 0.0       : 0\n",
            "🌬️ Wind effect > 0.3: 205\n",
            "🆕 New fire pixels  : 0\n",
            "\n",
            "--- Step 9 ---\n",
            "🔥 Currently burning: 16\n",
            "🌾 Fuel > 0.0       : 0\n",
            "🌬️ Wind effect > 0.3: 205\n",
            "🆕 New fire pixels  : 0\n",
            "\n",
            "--- Step 10 ---\n",
            "🔥 Currently burning: 16\n",
            "🌾 Fuel > 0.0       : 0\n",
            "🌬️ Wind effect > 0.3: 205\n",
            "🆕 New fire pixels  : 0\n",
            "\n",
            "--- Step 11 ---\n",
            "🔥 Currently burning: 16\n",
            "🌾 Fuel > 0.0       : 0\n",
            "🌬️ Wind effect > 0.3: 205\n",
            "🆕 New fire pixels  : 0\n",
            "\n",
            "--- Step 12 ---\n",
            "🔥 Currently burning: 16\n",
            "🌾 Fuel > 0.0       : 0\n",
            "🌬️ Wind effect > 0.3: 205\n",
            "🆕 New fire pixels  : 0\n"
          ]
        }
      ]
    },
    {
      "cell_type": "code",
      "source": [
        "import matplotlib.pyplot as plt\n",
        "\n",
        "plt.figure(figsize=(5,5))\n",
        "plt.imshow(fuel_padded, cmap='YlOrBr')\n",
        "plt.title(\"🪵 Fuel Map (padded)\")\n",
        "plt.colorbar(label=\"Fuel availability\")\n",
        "plt.show()\n",
        "\n",
        "print(\"Fuel stats → min:\", np.min(fuel_padded), \"max:\", np.max(fuel_padded), \"mean:\", np.mean(fuel_padded))"
      ],
      "metadata": {
        "colab": {
          "base_uri": "https://localhost:8080/",
          "height": 452
        },
        "id": "Q4rA_pXLM24y",
        "outputId": "d51ccd08-72d9-48f5-ff84-f1b8c72b5b3b"
      },
      "execution_count": 99,
      "outputs": [
        {
          "output_type": "display_data",
          "data": {
            "text/plain": [
              "<Figure size 500x500 with 2 Axes>"
            ],
            "image/png": "[encoded data removed]"
          },
          "metadata": {}
        },
        {
          "output_type": "stream",
          "name": "stdout",
          "text": [
            "Fuel stats → min: 0.0 max: 0.0 mean: 0.0\n"
          ]
        }
      ]
    },
    {
      "cell_type": "code",
      "source": [
        "import rasterio\n",
        "from rasterio.enums import Resampling\n",
        "import numpy as np\n",
        "\n",
        "# Load your LULC raster (as categorical)\n",
        "with rasterio.open(lulc_path) as src, rasterio.open(\"geotiffs/temperature.tif\") as ref:\n",
        "    lulc_resampled = src.read(\n",
        "        1,\n",
        "        out_shape=(ref.height, ref.width),\n",
        "        resampling=Resampling.nearest  # keep categorical\n",
        "    )\n",
        "\n",
        "# Define mapping from LULC class to fuel value\n",
        "lulc_to_fuel = {\n",
        "    1: 0.0,  # water\n",
        "    2: 0.0,  # urban\n",
        "    3: 0.4,  # agri\n",
        "    4: 0.6,  # scrub\n",
        "    5: 1.0,  # dense forest\n",
        "    6: 0.9,  # open forest\n",
        "    7: 0.7,  # grassland\n",
        "    # Add more if needed\n",
        "}\n",
        "\n",
        "# Map LULC to fuel using numpy vectorization\n",
        "fuel = np.zeros_like(lulc_resampled, dtype=np.float32)\n",
        "for k, v in lulc_to_fuel.items():\n",
        "    fuel[lulc_resampled == k] = v\n",
        "\n",
        "# Now pad it for simulation\n",
        "fuel_padded = pad_to_square(fuel, 64)\n",
        "\n",
        "# 🔍 Optional: Check\n",
        "print(\"✅ New fuel stats →\", \"min:\", fuel_padded.min(), \"max:\", fuel_padded.max(), \"mean:\", fuel_padded.mean())"
      ],
      "metadata": {
        "colab": {
          "base_uri": "https://localhost:8080/"
        },
        "id": "f0V71l5nNN0b",
        "outputId": "043f2ad2-8cbf-4dc4-df90-7b5cb4d5b5ac"
      },
      "execution_count": 100,
      "outputs": [
        {
          "output_type": "stream",
          "name": "stdout",
          "text": [
            "📦 Padded to: (64, 64)\n",
            "✅ New fuel stats → min: 0.0 max: 0.0 mean: 0.0\n"
          ]
        }
      ]
    },
    {
      "cell_type": "code",
      "source": [
        "import rasterio\n",
        "import numpy as np\n",
        "\n",
        "with rasterio.open(lulc_path) as src:\n",
        "    lulc_raw = src.read(1)\n",
        "\n",
        "unique_classes = np.unique(lulc_raw)\n",
        "print(\"🧾 Unique LULC classes in the raster:\", unique_classes)"
      ],
      "metadata": {
        "colab": {
          "base_uri": "https://localhost:8080/"
        },
        "id": "xSOrWo9qOCkL",
        "outputId": "0d6fd9e3-e751-4029-c9cf-370ca0837839"
      },
      "execution_count": 101,
      "outputs": [
        {
          "output_type": "stream",
          "name": "stdout",
          "text": [
            "🧾 Unique LULC classes in the raster: [0]\n"
          ]
        }
      ]
    },
    {
      "cell_type": "code",
      "source": [
        "import matplotlib.pyplot as plt\n",
        "with rasterio.open(lulc_path) as src:\n",
        "    lulc_raw = src.read(1)\n",
        "\n",
        "plt.imshow(lulc_raw, cmap='tab20')\n",
        "plt.title(\"Raw LULC Raster\")\n",
        "plt.colorbar(label=\"LULC Class\")\n",
        "plt.show()\n",
        "\n",
        "print(\"Raw LULC shape:\", lulc_raw.shape)\n",
        "print(\"Unique classes:\", np.unique(lulc_raw))"
      ],
      "metadata": {
        "colab": {
          "base_uri": "https://localhost:8080/",
          "height": 487
        },
        "id": "u3SE0EDxOTuT",
        "outputId": "271688b6-54ef-483e-c053-22f737b3af45"
      },
      "execution_count": 102,
      "outputs": [
        {
          "output_type": "display_data",
          "data": {
            "text/plain": [
              "<Figure size 640x480 with 2 Axes>"
            ],
            "image/png": "[encoded data removed]"
          },
          "metadata": {}
        },
        {
          "output_type": "stream",
          "name": "stdout",
          "text": [
            "Raw LULC shape: (2000, 2000)\n",
            "Unique classes: [0]\n"
          ]
        }
      ]
    },
    {
      "cell_type": "code",
      "source": [
        "import matplotlib.pyplot as plt\n",
        "import numpy as np\n",
        "\n",
        "# ⬇️ Put all your padded inputs here\n",
        "inputs = {\n",
        "    \"Fire Mask\": fire_padded,\n",
        "    \"Fuel\": fuel_padded,\n",
        "    \"Slope\": slope_padded,\n",
        "    \"U-Wind\": u_padded,\n",
        "    \"V-Wind\": v_padded,\n",
        "    \"GHSL\": ghsl_padded  # if available\n",
        "}\n",
        "\n",
        "# 🔍 Visual + statistical checks\n",
        "for name, arr in inputs.items():\n",
        "    print(f\"\\n🧪 {name}\")\n",
        "    print(\"  Shape:\", arr.shape)\n",
        "    print(\"  Min:\", np.min(arr), \"Max:\", np.max(arr), \"Mean:\", np.mean(arr))\n",
        "\n",
        "    plt.figure(figsize=(4, 4))\n",
        "    plt.imshow(arr, cmap='viridis')\n",
        "    plt.title(name)\n",
        "    plt.colorbar()\n",
        "    plt.show()"
      ],
      "metadata": {
        "colab": {
          "base_uri": "https://localhost:8080/",
          "height": 1000
        },
        "id": "u9EbRe-DaDUC",
        "outputId": "5d04cf0d-e6a2-4c21-df07-bb9d9f460422"
      },
      "execution_count": 103,
      "outputs": [
        {
          "output_type": "stream",
          "name": "stdout",
          "text": [
            "\n",
            "🧪 Fire Mask\n",
            "  Shape: (64, 64)\n",
            "  Min: 0 Max: 1 Mean: 0.00390625\n"
          ]
        },
        {
          "output_type": "display_data",
          "data": {
            "text/plain": [
              "<Figure size 400x400 with 2 Axes>"
            ],
            "image/png": "[encoded data removed]"
          },
          "metadata": {}
        },
        {
          "output_type": "stream",
          "name": "stdout",
          "text": [
            "\n",
            "🧪 Fuel\n",
            "  Shape: (64, 64)\n",
            "  Min: 0.0 Max: 0.0 Mean: 0.0\n"
          ]
        },
        {
          "output_type": "display_data",
          "data": {
            "text/plain": [
              "<Figure size 400x400 with 2 Axes>"
            ],
            "image/png": "[encoded data removed]"
          },
          "metadata": {}
        },
        {
          "output_type": "stream",
          "name": "stdout",
          "text": [
            "\n",
            "🧪 Slope\n",
            "  Shape: (64, 64)\n",
            "  Min: -9999.0 Max: 89.999016 Mean: -117.55516\n"
          ]
        },
        {
          "output_type": "display_data",
          "data": {
            "text/plain": [
              "<Figure size 400x400 with 2 Axes>"
            ],
            "image/png": "[encoded data removed]"
          },
          "metadata": {}
        },
        {
          "output_type": "stream",
          "name": "stdout",
          "text": [
            "\n",
            "🧪 U-Wind\n",
            "  Shape: (64, 64)\n",
            "  Min: -4.597641 Max: 1.3144684 Mean: -0.08452296\n"
          ]
        },
        {
          "output_type": "display_data",
          "data": {
            "text/plain": [
              "<Figure size 400x400 with 2 Axes>"
            ],
            "image/png": "[encoded data removed]"
          },
          "metadata": {}
        },
        {
          "output_type": "stream",
          "name": "stdout",
          "text": [
            "\n",
            "🧪 V-Wind\n",
            "  Shape: (64, 64)\n",
            "  Min: -1.6560822 Max: 2.5079803 Mean: 0.01595803\n"
          ]
        },
        {
          "output_type": "display_data",
          "data": {
            "text/plain": [
              "<Figure size 400x400 with 2 Axes>"
            ],
            "image/png": "[encoded data removed]"
          },
          "metadata": {}
        },
        {
          "output_type": "stream",
          "name": "stdout",
          "text": [
            "\n",
            "🧪 GHSL\n",
            "  Shape: (64, 64)\n",
            "  Min: 0.0 Max: 1.0 Mean: 0.007438290153133903\n"
          ]
        },
        {
          "output_type": "display_data",
          "data": {
            "text/plain": [
              "<Figure size 400x400 with 2 Axes>"
            ],
            "image/png": "[encoded data removed]"
          },
          "metadata": {}
        }
      ]
    },
    {
      "cell_type": "code",
      "source": [
        "slope_padded = np.where(slope_padded < -1000, 0, slope_padded)"
      ],
      "metadata": {
        "id": "TmdmuoV3bHQ3"
      },
      "execution_count": 104,
      "outputs": []
    },
    {
      "cell_type": "code",
      "source": [
        "slope_padded = (slope_padded - slope_padded.min()) / (slope_padded.max() - slope_padded.min() + 1e-6)"
      ],
      "metadata": {
        "id": "K_QlKRQgbKcy"
      },
      "execution_count": 105,
      "outputs": []
    },
    {
      "cell_type": "code",
      "source": [
        "import matplotlib.pyplot as plt\n",
        "import numpy as np\n",
        "\n",
        "# ⬇️ Put all your padded inputs here\n",
        "inputs = {\n",
        "    \"Fire Mask\": fire_padded,\n",
        "    \"Fuel\": fuel_padded,\n",
        "    \"Slope\": slope_padded,\n",
        "    \"U-Wind\": u_padded,\n",
        "    \"V-Wind\": v_padded,\n",
        "    \"GHSL\": ghsl_padded  # if available\n",
        "}\n",
        "\n",
        "# 🔍 Visual + statistical checks\n",
        "for name, arr in inputs.items():\n",
        "    print(f\"\\n🧪 {name}\")\n",
        "    print(\"  Shape:\", arr.shape)\n",
        "    print(\"  Min:\", np.min(arr), \"Max:\", np.max(arr), \"Mean:\", np.mean(arr))\n",
        "\n",
        "    plt.figure(figsize=(4, 4))\n",
        "    plt.imshow(arr, cmap='viridis')\n",
        "    plt.title(name)\n",
        "    plt.colorbar()\n",
        "    plt.show()"
      ],
      "metadata": {
        "colab": {
          "base_uri": "https://localhost:8080/",
          "height": 1000
        },
        "id": "hrFTLJiRbNKM",
        "outputId": "eccd70da-8359-4000-ed33-12469197007c"
      },
      "execution_count": 106,
      "outputs": [
        {
          "output_type": "stream",
          "name": "stdout",
          "text": [
            "\n",
            "🧪 Fire Mask\n",
            "  Shape: (64, 64)\n",
            "  Min: 0 Max: 1 Mean: 0.00390625\n"
          ]
        },
        {
          "output_type": "display_data",
          "data": {
            "text/plain": [
              "<Figure size 400x400 with 2 Axes>"
            ],
            "image/png": "[encoded data removed]"
          },
          "metadata": {}
        },
        {
          "output_type": "stream",
          "name": "stdout",
          "text": [
            "\n",
            "🧪 Fuel\n",
            "  Shape: (64, 64)\n",
            "  Min: 0.0 Max: 0.0 Mean: 0.0\n"
          ]
        },
        {
          "output_type": "display_data",
          "data": {
            "text/plain": [
              "<Figure size 400x400 with 2 Axes>"
            ],
            "image/png": "[encoded data removed]"
          },
          "metadata": {}
        },
        {
          "output_type": "stream",
          "name": "stdout",
          "text": [
            "\n",
            "🧪 Slope\n",
            "  Shape: (64, 64)\n",
            "  Min: 0.0 Max: 1.0 Mean: 0.05003334\n"
          ]
        },
        {
          "output_type": "display_data",
          "data": {
            "text/plain": [
              "<Figure size 400x400 with 2 Axes>"
            ],
            "image/png": "[encoded data removed]"
          },
          "metadata": {}
        },
        {
          "output_type": "stream",
          "name": "stdout",
          "text": [
            "\n",
            "🧪 U-Wind\n",
            "  Shape: (64, 64)\n",
            "  Min: -4.597641 Max: 1.3144684 Mean: -0.08452296\n"
          ]
        },
        {
          "output_type": "display_data",
          "data": {
            "text/plain": [
              "<Figure size 400x400 with 2 Axes>"
            ],
            "image/png": "[encoded data removed]"
          },
          "metadata": {}
        },
        {
          "output_type": "stream",
          "name": "stdout",
          "text": [
            "\n",
            "🧪 V-Wind\n",
            "  Shape: (64, 64)\n",
            "  Min: -1.6560822 Max: 2.5079803 Mean: 0.01595803\n"
          ]
        },
        {
          "output_type": "display_data",
          "data": {
            "text/plain": [
              "<Figure size 400x400 with 2 Axes>"
            ],
            "image/png": "[encoded data removed]"
          },
          "metadata": {}
        },
        {
          "output_type": "stream",
          "name": "stdout",
          "text": [
            "\n",
            "🧪 GHSL\n",
            "  Shape: (64, 64)\n",
            "  Min: 0.0 Max: 1.0 Mean: 0.007438290153133903\n"
          ]
        },
        {
          "output_type": "display_data",
          "data": {
            "text/plain": [
              "<Figure size 400x400 with 2 Axes>"
            ],
            "image/png": "[encoded data removed]"
          },
          "metadata": {}
        }
      ]
    },
    {
      "cell_type": "code",
      "source": [
        "# 🔍 Focus on active region\n",
        "crop_slice = slice(0, 16)  # adjust as needed\n",
        "\n",
        "fire_crop = fire_padded[crop_slice, crop_slice]\n",
        "fuel_crop = fuel_padded[crop_slice, crop_slice]\n",
        "slope_crop = slope_padded[crop_slice, crop_slice]\n",
        "u_crop = u_padded[crop_slice, crop_slice]\n",
        "v_crop = v_padded[crop_slice, crop_slice]\n",
        "\n",
        "# 🔄 Run simulation (debug version recommended first)\n",
        "fire_seq_crop = simulate_fire_spread_debug(\n",
        "    fire=fire_crop,\n",
        "    fuel=fuel_crop,\n",
        "    slope=slope_crop,\n",
        "    u_wind=u_crop,\n",
        "    v_wind=v_crop,\n",
        "    steps=12\n",
        ")"
      ],
      "metadata": {
        "colab": {
          "base_uri": "https://localhost:8080/"
        },
        "id": "ukwFZI25b0Qf",
        "outputId": "bb1126e8-c44e-439c-f9e1-460646ace0ef"
      },
      "execution_count": 107,
      "outputs": [
        {
          "output_type": "stream",
          "name": "stdout",
          "text": [
            "🧪 Fire Spread Debug Mode ON\n",
            "\n",
            "--- Step 1 ---\n",
            "🔥 Currently burning: 16\n",
            "🌾 Fuel > 0.0       : 0\n",
            "🌬️ Wind effect > 0.3: 101\n",
            "🆕 New fire pixels  : 0\n",
            "\n",
            "--- Step 2 ---\n",
            "🔥 Currently burning: 16\n",
            "🌾 Fuel > 0.0       : 0\n",
            "🌬️ Wind effect > 0.3: 101\n",
            "🆕 New fire pixels  : 0\n",
            "\n",
            "--- Step 3 ---\n",
            "🔥 Currently burning: 16\n",
            "🌾 Fuel > 0.0       : 0\n",
            "🌬️ Wind effect > 0.3: 101\n",
            "🆕 New fire pixels  : 0\n",
            "\n",
            "--- Step 4 ---\n",
            "🔥 Currently burning: 16\n",
            "🌾 Fuel > 0.0       : 0\n",
            "🌬️ Wind effect > 0.3: 101\n",
            "🆕 New fire pixels  : 0\n",
            "\n",
            "--- Step 5 ---\n",
            "🔥 Currently burning: 16\n",
            "🌾 Fuel > 0.0       : 0\n",
            "🌬️ Wind effect > 0.3: 101\n",
            "🆕 New fire pixels  : 0\n",
            "\n",
            "--- Step 6 ---\n",
            "🔥 Currently burning: 16\n",
            "🌾 Fuel > 0.0       : 0\n",
            "🌬️ Wind effect > 0.3: 101\n",
            "🆕 New fire pixels  : 0\n",
            "\n",
            "--- Step 7 ---\n",
            "🔥 Currently burning: 16\n",
            "🌾 Fuel > 0.0       : 0\n",
            "🌬️ Wind effect > 0.3: 101\n",
            "🆕 New fire pixels  : 0\n",
            "\n",
            "--- Step 8 ---\n",
            "🔥 Currently burning: 16\n",
            "🌾 Fuel > 0.0       : 0\n",
            "🌬️ Wind effect > 0.3: 101\n",
            "🆕 New fire pixels  : 0\n",
            "\n",
            "--- Step 9 ---\n",
            "🔥 Currently burning: 16\n",
            "🌾 Fuel > 0.0       : 0\n",
            "🌬️ Wind effect > 0.3: 101\n",
            "🆕 New fire pixels  : 0\n",
            "\n",
            "--- Step 10 ---\n",
            "🔥 Currently burning: 16\n",
            "🌾 Fuel > 0.0       : 0\n",
            "🌬️ Wind effect > 0.3: 101\n",
            "🆕 New fire pixels  : 0\n",
            "\n",
            "--- Step 11 ---\n",
            "🔥 Currently burning: 16\n",
            "🌾 Fuel > 0.0       : 0\n",
            "🌬️ Wind effect > 0.3: 101\n",
            "🆕 New fire pixels  : 0\n",
            "\n",
            "--- Step 12 ---\n",
            "🔥 Currently burning: 16\n",
            "🌾 Fuel > 0.0       : 0\n",
            "🌬️ Wind effect > 0.3: 101\n",
            "🆕 New fire pixels  : 0\n"
          ]
        }
      ]
    },
    {
      "cell_type": "code",
      "source": [
        "# Visualize spread\n",
        "import matplotlib.pyplot as plt\n",
        "\n",
        "plt.figure(figsize=(12, 6))\n",
        "for i, step in enumerate([1, 2, 3, 6, 12]):\n",
        "    plt.subplot(2, 3, i+1)\n",
        "    plt.imshow(fire_seq_crop[step], cmap='Reds')\n",
        "    plt.title(f\"🔥 Hour-{step}\")\n",
        "    plt.axis('off')\n",
        "\n",
        "plt.suptitle(\"🔥 Fire Spread Simulation (Focused Crop Region)\", fontsize=16)\n",
        "plt.tight_layout()\n",
        "plt.show()"
      ],
      "metadata": {
        "colab": {
          "base_uri": "https://localhost:8080/",
          "height": 390
        },
        "id": "4k4gVWibb67-",
        "outputId": "0848b967-1492-4ad5-ad93-c8199543eed8"
      },
      "execution_count": 108,
      "outputs": [
        {
          "output_type": "display_data",
          "data": {
            "text/plain": [
              "<Figure size 1200x600 with 5 Axes>"
            ],
            "image/png": "[encoded data removed]"
          },
          "metadata": {}
        }
      ]
    }
  ]
}